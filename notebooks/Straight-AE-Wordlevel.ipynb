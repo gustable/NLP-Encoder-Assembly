{
 "cells": [
  {
   "cell_type": "code",
   "execution_count": 1,
   "metadata": {},
   "outputs": [],
   "source": [
    "import sys\n",
    "sys.path.append(\"..\")"
   ]
  },
  {
   "cell_type": "code",
   "execution_count": 2,
   "metadata": {},
   "outputs": [
    {
     "name": "stderr",
     "output_type": "stream",
     "text": [
      "Using TensorFlow backend.\n"
     ]
    }
   ],
   "source": [
    "from keras.models import Model"
   ]
  },
  {
   "cell_type": "code",
   "execution_count": 3,
   "metadata": {},
   "outputs": [],
   "source": [
    "from sklearn.datasets import fetch_20newsgroups\n",
    "from pprint import pprint\n",
    "import numpy as np\n",
    "from numpy.linalg import norm\n",
    "import pickle"
   ]
  },
  {
   "cell_type": "code",
   "execution_count": 4,
   "metadata": {},
   "outputs": [],
   "source": [
    "from hyper_params import *\n",
    "import text_encoder as te\n",
    "import text_decoder as td\n",
    "from data_set import *"
   ]
  },
  {
   "cell_type": "code",
   "execution_count": 5,
   "metadata": {},
   "outputs": [],
   "source": [
    "import bowizer\n",
    "import tfidf"
   ]
  },
  {
   "cell_type": "code",
   "execution_count": 6,
   "metadata": {},
   "outputs": [],
   "source": [
    "with open('../data/norvig/big.txt') as f:\n",
    "    norvig = f.read()"
   ]
  },
  {
   "cell_type": "code",
   "execution_count": 7,
   "metadata": {},
   "outputs": [],
   "source": [
    "chunks = make_chunks(norvig)"
   ]
  },
  {
   "cell_type": "code",
   "execution_count": 8,
   "metadata": {},
   "outputs": [],
   "source": [
    "r = np.random.RandomState(42)"
   ]
  },
  {
   "cell_type": "code",
   "execution_count": 9,
   "metadata": {},
   "outputs": [],
   "source": [
    "r.shuffle(chunks)\n",
    "train_text, test_text = make_train_test(chunks)"
   ]
  },
  {
   "cell_type": "code",
   "execution_count": 10,
   "metadata": {},
   "outputs": [],
   "source": [
    "tm = bowizer.TokenMaker([norvig], 3000)"
   ]
  },
  {
   "cell_type": "code",
   "execution_count": 11,
   "metadata": {},
   "outputs": [],
   "source": [
    "embed_h = EmbeddingHyper(tm.vocab_size + 1, 256)\n",
    "conv_h = ConvHyper(256, 6, 4)\n",
    "rnn_h = RnnHyper(512, is_lstm=False, is_bidirectional=True, return_sequences=False)\n",
    "encoder_h = te.Hyper(embed_h, [conv_h, rnn_h])"
   ]
  },
  {
   "cell_type": "code",
   "execution_count": 12,
   "metadata": {},
   "outputs": [],
   "source": [
    "dernn_h = RnnHyper(512, is_lstm=False, is_bidirectional=False, return_sequences=True, unroll=True)\n",
    "dec_h = DeconvHyper(256, 6, 4)\n",
    "decoder_h = td.Hyper(tm.vocab_size + 1, [dernn_h, dec_h])"
   ]
  },
  {
   "cell_type": "code",
   "execution_count": 13,
   "metadata": {},
   "outputs": [],
   "source": [
    "encoder = encoder_h.make_layer()\n",
    "decoder = decoder_h.make_layer()"
   ]
  },
  {
   "cell_type": "code",
   "execution_count": 14,
   "metadata": {},
   "outputs": [],
   "source": [
    "def make_model(max_len):\n",
    "    x = Input(shape=(max_len,), name='text_input')\n",
    "    h = encoder(x)\n",
    "    h = decoder(h, max_len)\n",
    "    model = Model(x, h)\n",
    "    model.compile(optimizer='adam',\n",
    "        loss='categorical_crossentropy',\n",
    "        metrics=['categorical_accuracy'])\n",
    "\n",
    "    return model"
   ]
  },
  {
   "cell_type": "code",
   "execution_count": 15,
   "metadata": {},
   "outputs": [],
   "source": [
    "model64, model128, model256 = make_model(64), make_model(128), make_model(256)"
   ]
  },
  {
   "cell_type": "code",
   "execution_count": 16,
   "metadata": {},
   "outputs": [],
   "source": [
    "models = {64: model64, 128: model128, 256: model256 }"
   ]
  },
  {
   "cell_type": "code",
   "execution_count": 17,
   "metadata": {},
   "outputs": [],
   "source": [
    "def training_round(max_len, history=None):\n",
    "    if history is None:\n",
    "        initial_epoch = 0\n",
    "    else:\n",
    "        initial_epoch = len(history['loss'])\n",
    "    train, test = bowizer.SlicedWordData.Random(train_text, test_text, 2000, max_len, 10000, r, tm)\n",
    "    model = models[max_len]\n",
    "    newhistory = model.fit(x=train.x, y=train.y,\n",
    "                            epochs=initial_epoch+5, batch_size=16,\n",
    "                            validation_data=(test.x, test.y),\n",
    "                            initial_epoch=initial_epoch)\n",
    "    if history is None:\n",
    "        history = newhistory.history\n",
    "    else:\n",
    "        history = {key:history[key] + newhistory.history[key] for key in history.keys()}\n",
    "    return history"
   ]
  },
  {
   "cell_type": "code",
   "execution_count": 18,
   "metadata": {},
   "outputs": [],
   "source": [
    "history = None"
   ]
  },
  {
   "cell_type": "code",
   "execution_count": 19,
   "metadata": {
    "scrolled": false
   },
   "outputs": [
    {
     "name": "stdout",
     "output_type": "stream",
     "text": [
      "0\n",
      "Train on 10000 samples, validate on 1000 samples\n",
      "Epoch 1/5\n",
      "10000/10000 [==============================] - 145s - loss: 5.0054 - categorical_accuracy: 0.2152 - val_loss: 4.5686 - val_categorical_accuracy: 0.2679\n",
      "Epoch 2/5\n",
      "10000/10000 [==============================] - 142s - loss: 4.6941 - categorical_accuracy: 0.2185 - val_loss: 4.3911 - val_categorical_accuracy: 0.2685\n",
      "Epoch 3/5\n",
      "10000/10000 [==============================] - 146s - loss: 4.4900 - categorical_accuracy: 0.2223 - val_loss: 4.2173 - val_categorical_accuracy: 0.2739\n",
      "Epoch 4/5\n",
      "10000/10000 [==============================] - 147s - loss: 4.2881 - categorical_accuracy: 0.2305 - val_loss: 4.0572 - val_categorical_accuracy: 0.2827\n",
      "Epoch 5/5\n",
      "10000/10000 [==============================] - 147s - loss: 4.0970 - categorical_accuracy: 0.2415 - val_loss: 3.9489 - val_categorical_accuracy: 0.2913\n",
      "1\n",
      "Train on 10000 samples, validate on 1000 samples\n",
      "Epoch 6/10\n",
      "10000/10000 [==============================] - 146s - loss: 4.0306 - categorical_accuracy: 0.2489 - val_loss: 3.8063 - val_categorical_accuracy: 0.3017\n",
      "Epoch 7/10\n",
      "10000/10000 [==============================] - 146s - loss: 3.8173 - categorical_accuracy: 0.2641 - val_loss: 3.6844 - val_categorical_accuracy: 0.3146\n",
      "Epoch 8/10\n",
      "10000/10000 [==============================] - 143s - loss: 3.6331 - categorical_accuracy: 0.2805 - val_loss: 3.5890 - val_categorical_accuracy: 0.3253\n",
      "Epoch 9/10\n",
      "10000/10000 [==============================] - 146s - loss: 3.4697 - categorical_accuracy: 0.2962 - val_loss: 3.5268 - val_categorical_accuracy: 0.3340\n",
      "Epoch 10/10\n",
      "10000/10000 [==============================] - 146s - loss: 3.3226 - categorical_accuracy: 0.3104 - val_loss: 3.4791 - val_categorical_accuracy: 0.3439\n",
      "2\n",
      "Train on 10000 samples, validate on 1000 samples\n",
      "Epoch 11/15\n",
      "10000/10000 [==============================] - 149s - loss: 3.4520 - categorical_accuracy: 0.3122 - val_loss: 3.3222 - val_categorical_accuracy: 0.3577\n",
      "Epoch 12/15\n",
      "10000/10000 [==============================] - 147s - loss: 3.2105 - categorical_accuracy: 0.3346 - val_loss: 3.2469 - val_categorical_accuracy: 0.3653\n",
      "Epoch 13/15\n",
      "10000/10000 [==============================] - 148s - loss: 3.0400 - categorical_accuracy: 0.3513 - val_loss: 3.1860 - val_categorical_accuracy: 0.3741\n",
      "Epoch 14/15\n",
      "10000/10000 [==============================] - 149s - loss: 2.8981 - categorical_accuracy: 0.3663 - val_loss: 3.1656 - val_categorical_accuracy: 0.3788\n",
      "Epoch 15/15\n",
      "10000/10000 [==============================] - 150s - loss: 2.7730 - categorical_accuracy: 0.3811 - val_loss: 3.1580 - val_categorical_accuracy: 0.3816\n",
      "3\n",
      "Train on 10000 samples, validate on 1000 samples\n",
      "Epoch 16/20\n",
      "10000/10000 [==============================] - 147s - loss: 3.0451 - categorical_accuracy: 0.3618 - val_loss: 2.9981 - val_categorical_accuracy: 0.3936\n",
      "Epoch 17/20\n",
      "10000/10000 [==============================] - 150s - loss: 2.7935 - categorical_accuracy: 0.3887 - val_loss: 2.9281 - val_categorical_accuracy: 0.4049\n",
      "Epoch 18/20\n",
      "10000/10000 [==============================] - 152s - loss: 2.6266 - categorical_accuracy: 0.4098 - val_loss: 2.8857 - val_categorical_accuracy: 0.4145\n",
      "Epoch 19/20\n",
      "10000/10000 [==============================] - 155s - loss: 2.4879 - categorical_accuracy: 0.4287 - val_loss: 2.8614 - val_categorical_accuracy: 0.4206\n",
      "Epoch 20/20\n",
      "10000/10000 [==============================] - 153s - loss: 2.3588 - categorical_accuracy: 0.4483 - val_loss: 2.8404 - val_categorical_accuracy: 0.4267\n",
      "4\n",
      "Train on 10000 samples, validate on 1000 samples\n",
      "Epoch 21/25\n",
      "10000/10000 [==============================] - 151s - loss: 2.6502 - categorical_accuracy: 0.4237 - val_loss: 2.6338 - val_categorical_accuracy: 0.4529\n",
      "Epoch 22/25\n",
      "10000/10000 [==============================] - 153s - loss: 2.3643 - categorical_accuracy: 0.4636 - val_loss: 2.5733 - val_categorical_accuracy: 0.4615\n",
      "Epoch 23/25\n",
      "10000/10000 [==============================] - 153s - loss: 2.1907 - categorical_accuracy: 0.4889 - val_loss: 2.5320 - val_categorical_accuracy: 0.4693\n",
      "Epoch 24/25\n",
      "10000/10000 [==============================] - 153s - loss: 2.0519 - categorical_accuracy: 0.5104 - val_loss: 2.5223 - val_categorical_accuracy: 0.4727\n",
      "Epoch 25/25\n",
      "10000/10000 [==============================] - 154s - loss: 1.9322 - categorical_accuracy: 0.5301 - val_loss: 2.5073 - val_categorical_accuracy: 0.4766\n",
      "5\n",
      "Train on 10000 samples, validate on 1000 samples\n",
      "Epoch 26/30\n",
      "10000/10000 [==============================] - 153s - loss: 2.2645 - categorical_accuracy: 0.4880 - val_loss: 2.2644 - val_categorical_accuracy: 0.5100\n",
      "Epoch 27/30\n",
      "10000/10000 [==============================] - 155s - loss: 1.9656 - categorical_accuracy: 0.5359 - val_loss: 2.1848 - val_categorical_accuracy: 0.5226\n",
      "Epoch 28/30\n",
      "10000/10000 [==============================] - 153s - loss: 1.7894 - categorical_accuracy: 0.5659 - val_loss: 2.1378 - val_categorical_accuracy: 0.5347\n",
      "Epoch 29/30\n",
      "10000/10000 [==============================] - 153s - loss: 1.6518 - categorical_accuracy: 0.5905 - val_loss: 2.1038 - val_categorical_accuracy: 0.5414\n",
      "Epoch 30/30\n",
      "10000/10000 [==============================] - 153s - loss: 1.5333 - categorical_accuracy: 0.6124 - val_loss: 2.0894 - val_categorical_accuracy: 0.5474\n",
      "6\n",
      "Train on 10000 samples, validate on 1000 samples\n",
      "Epoch 31/35\n",
      "10000/10000 [==============================] - 151s - loss: 1.8566 - categorical_accuracy: 0.5633 - val_loss: 1.9158 - val_categorical_accuracy: 0.5688\n",
      "Epoch 32/35\n",
      "10000/10000 [==============================] - 153s - loss: 1.5836 - categorical_accuracy: 0.6112 - val_loss: 1.8803 - val_categorical_accuracy: 0.5766\n",
      "Epoch 33/35\n",
      "10000/10000 [==============================] - 153s - loss: 1.4402 - categorical_accuracy: 0.6380 - val_loss: 1.8416 - val_categorical_accuracy: 0.5858\n",
      "Epoch 34/35\n",
      "10000/10000 [==============================] - 153s - loss: 1.3286 - categorical_accuracy: 0.6602 - val_loss: 1.8444 - val_categorical_accuracy: 0.5893\n",
      "Epoch 35/35\n",
      "10000/10000 [==============================] - 153s - loss: 1.2395 - categorical_accuracy: 0.6785 - val_loss: 1.8692 - val_categorical_accuracy: 0.5909\n",
      "7\n",
      "Train on 10000 samples, validate on 1000 samples\n",
      "Epoch 36/40\n",
      "10000/10000 [==============================] - 151s - loss: 1.5697 - categorical_accuracy: 0.6204 - val_loss: 1.6454 - val_categorical_accuracy: 0.6190\n",
      "Epoch 37/40\n",
      "10000/10000 [==============================] - 153s - loss: 1.3212 - categorical_accuracy: 0.6685 - val_loss: 1.6194 - val_categorical_accuracy: 0.6260\n",
      "Epoch 38/40\n",
      "10000/10000 [==============================] - 153s - loss: 1.2001 - categorical_accuracy: 0.6925 - val_loss: 1.6112 - val_categorical_accuracy: 0.6298\n",
      "Epoch 39/40\n",
      "10000/10000 [==============================] - 153s - loss: 1.1096 - categorical_accuracy: 0.7109 - val_loss: 1.6164 - val_categorical_accuracy: 0.6348\n",
      "Epoch 40/40\n",
      "10000/10000 [==============================] - 153s - loss: 1.0358 - categorical_accuracy: 0.7270 - val_loss: 1.6369 - val_categorical_accuracy: 0.6309\n",
      "8\n",
      "Train on 10000 samples, validate on 1000 samples\n",
      "Epoch 41/45\n",
      "10000/10000 [==============================] - 153s - loss: 1.3542 - categorical_accuracy: 0.6671 - val_loss: 1.4350 - val_categorical_accuracy: 0.6650\n",
      "Epoch 42/45\n",
      "10000/10000 [==============================] - 152s - loss: 1.1285 - categorical_accuracy: 0.7132 - val_loss: 1.4084 - val_categorical_accuracy: 0.6723\n",
      "Epoch 43/45\n",
      "10000/10000 [==============================] - 154s - loss: 1.0296 - categorical_accuracy: 0.7327 - val_loss: 1.4287 - val_categorical_accuracy: 0.6712\n",
      "Epoch 44/45\n",
      "10000/10000 [==============================] - 154s - loss: 0.9557 - categorical_accuracy: 0.7484 - val_loss: 1.4587 - val_categorical_accuracy: 0.6683\n",
      "Epoch 45/45\n",
      "10000/10000 [==============================] - 153s - loss: 0.8937 - categorical_accuracy: 0.7623 - val_loss: 1.4779 - val_categorical_accuracy: 0.6704\n",
      "9\n",
      "Train on 10000 samples, validate on 1000 samples\n",
      "Epoch 46/50\n",
      "10000/10000 [==============================] - 153s - loss: 1.2098 - categorical_accuracy: 0.6990 - val_loss: 1.3007 - val_categorical_accuracy: 0.6934\n",
      "Epoch 47/50\n"
     ]
    },
    {
     "name": "stdout",
     "output_type": "stream",
     "text": [
      "10000/10000 [==============================] - 151s - loss: 0.9989 - categorical_accuracy: 0.7444 - val_loss: 1.3065 - val_categorical_accuracy: 0.6954\n",
      "Epoch 48/50\n",
      "10000/10000 [==============================] - 148s - loss: 0.9117 - categorical_accuracy: 0.7621 - val_loss: 1.3327 - val_categorical_accuracy: 0.6930\n",
      "Epoch 49/50\n",
      "10000/10000 [==============================] - 147s - loss: 0.8510 - categorical_accuracy: 0.7751 - val_loss: 1.3411 - val_categorical_accuracy: 0.6947\n",
      "Epoch 50/50\n",
      "10000/10000 [==============================] - 153s - loss: 0.7980 - categorical_accuracy: 0.7868 - val_loss: 1.3576 - val_categorical_accuracy: 0.6947\n",
      "10\n",
      "Train on 10000 samples, validate on 1000 samples\n",
      "Epoch 51/55\n",
      "10000/10000 [==============================] - 151s - loss: 1.1076 - categorical_accuracy: 0.7231 - val_loss: 1.1638 - val_categorical_accuracy: 0.7215\n",
      "Epoch 52/55\n",
      "10000/10000 [==============================] - 154s - loss: 0.9118 - categorical_accuracy: 0.7649 - val_loss: 1.1796 - val_categorical_accuracy: 0.7233\n",
      "Epoch 53/55\n",
      "10000/10000 [==============================] - 154s - loss: 0.8333 - categorical_accuracy: 0.7817 - val_loss: 1.2157 - val_categorical_accuracy: 0.7175\n",
      "Epoch 54/55\n",
      "10000/10000 [==============================] - 154s - loss: 0.7770 - categorical_accuracy: 0.7940 - val_loss: 1.2346 - val_categorical_accuracy: 0.7165\n",
      "Epoch 55/55\n",
      "10000/10000 [==============================] - 154s - loss: 0.7278 - categorical_accuracy: 0.8056 - val_loss: 1.2692 - val_categorical_accuracy: 0.7144\n",
      "11\n",
      "Train on 10000 samples, validate on 1000 samples\n",
      "Epoch 56/60\n",
      "10000/10000 [==============================] - 153s - loss: 1.0237 - categorical_accuracy: 0.7431 - val_loss: 1.1001 - val_categorical_accuracy: 0.7376\n",
      "Epoch 57/60\n",
      "10000/10000 [==============================] - 151s - loss: 0.8325 - categorical_accuracy: 0.7849 - val_loss: 1.1165 - val_categorical_accuracy: 0.7354\n",
      "Epoch 58/60\n",
      "10000/10000 [==============================] - 151s - loss: 0.7572 - categorical_accuracy: 0.8019 - val_loss: 1.1369 - val_categorical_accuracy: 0.7338\n",
      "Epoch 59/60\n",
      "10000/10000 [==============================] - 152s - loss: 0.7057 - categorical_accuracy: 0.8134 - val_loss: 1.1615 - val_categorical_accuracy: 0.7336\n",
      "Epoch 60/60\n",
      "10000/10000 [==============================] - 153s - loss: 0.6621 - categorical_accuracy: 0.8231 - val_loss: 1.1762 - val_categorical_accuracy: 0.7317\n",
      "12\n",
      "Train on 10000 samples, validate on 1000 samples\n",
      "Epoch 61/65\n",
      "10000/10000 [==============================] - 149s - loss: 0.9482 - categorical_accuracy: 0.7621 - val_loss: 1.0122 - val_categorical_accuracy: 0.7583\n",
      "Epoch 62/65\n",
      "10000/10000 [==============================] - 153s - loss: 0.7575 - categorical_accuracy: 0.8053 - val_loss: 1.0077 - val_categorical_accuracy: 0.7603\n",
      "Epoch 63/65\n",
      "10000/10000 [==============================] - 153s - loss: 0.6861 - categorical_accuracy: 0.8211 - val_loss: 1.0261 - val_categorical_accuracy: 0.7579\n",
      "Epoch 64/65\n",
      "10000/10000 [==============================] - 153s - loss: 0.6421 - categorical_accuracy: 0.8306 - val_loss: 1.0642 - val_categorical_accuracy: 0.7549\n",
      "Epoch 65/65\n",
      "10000/10000 [==============================] - 153s - loss: 0.6033 - categorical_accuracy: 0.8400 - val_loss: 1.0964 - val_categorical_accuracy: 0.7513\n",
      "13\n",
      "Train on 10000 samples, validate on 1000 samples\n",
      "Epoch 66/70\n",
      "10000/10000 [==============================] - 150s - loss: 0.8732 - categorical_accuracy: 0.7812 - val_loss: 0.9490 - val_categorical_accuracy: 0.7738\n",
      "Epoch 67/70\n",
      "10000/10000 [==============================] - 153s - loss: 0.6886 - categorical_accuracy: 0.8236 - val_loss: 0.9515 - val_categorical_accuracy: 0.7750\n",
      "Epoch 68/70\n",
      "10000/10000 [==============================] - 153s - loss: 0.6290 - categorical_accuracy: 0.8365 - val_loss: 0.9727 - val_categorical_accuracy: 0.7736\n",
      "Epoch 69/70\n",
      "10000/10000 [==============================] - 153s - loss: 0.5878 - categorical_accuracy: 0.8459 - val_loss: 1.0075 - val_categorical_accuracy: 0.7683\n",
      "Epoch 70/70\n",
      "10000/10000 [==============================] - 153s - loss: 0.5508 - categorical_accuracy: 0.8551 - val_loss: 1.0212 - val_categorical_accuracy: 0.7685\n",
      "14\n",
      "Train on 10000 samples, validate on 1000 samples\n",
      "Epoch 71/75\n",
      "10000/10000 [==============================] - 151s - loss: 0.8115 - categorical_accuracy: 0.7968 - val_loss: 0.9069 - val_categorical_accuracy: 0.7860\n",
      "Epoch 72/75\n",
      "10000/10000 [==============================] - 153s - loss: 0.6336 - categorical_accuracy: 0.8384 - val_loss: 0.9304 - val_categorical_accuracy: 0.7814\n",
      "Epoch 73/75\n",
      "10000/10000 [==============================] - 153s - loss: 0.5775 - categorical_accuracy: 0.8508 - val_loss: 0.9585 - val_categorical_accuracy: 0.7783\n",
      "Epoch 74/75\n",
      "10000/10000 [==============================] - 153s - loss: 0.5443 - categorical_accuracy: 0.8582 - val_loss: 0.9747 - val_categorical_accuracy: 0.7795\n",
      "Epoch 75/75\n",
      "10000/10000 [==============================] - 153s - loss: 0.5118 - categorical_accuracy: 0.8659 - val_loss: 1.0099 - val_categorical_accuracy: 0.7761\n",
      "15\n",
      "Train on 10000 samples, validate on 1000 samples\n",
      "Epoch 76/80\n",
      "10000/10000 [==============================] - 151s - loss: 0.7623 - categorical_accuracy: 0.8096 - val_loss: 0.8529 - val_categorical_accuracy: 0.7975\n",
      "Epoch 77/80\n",
      "10000/10000 [==============================] - 153s - loss: 0.5942 - categorical_accuracy: 0.8500 - val_loss: 0.8595 - val_categorical_accuracy: 0.7988\n",
      "Epoch 78/80\n",
      "10000/10000 [==============================] - 155s - loss: 0.5435 - categorical_accuracy: 0.8604 - val_loss: 0.8719 - val_categorical_accuracy: 0.7986\n",
      "Epoch 79/80\n",
      "10000/10000 [==============================] - 153s - loss: 0.5101 - categorical_accuracy: 0.8682 - val_loss: 0.9101 - val_categorical_accuracy: 0.7923\n",
      "Epoch 80/80\n",
      "10000/10000 [==============================] - 153s - loss: 0.4834 - categorical_accuracy: 0.8745 - val_loss: 0.9381 - val_categorical_accuracy: 0.7899\n",
      "16\n",
      "Train on 10000 samples, validate on 1000 samples\n",
      "Epoch 81/85\n",
      "10000/10000 [==============================] - 152s - loss: 0.7169 - categorical_accuracy: 0.8219 - val_loss: 0.7976 - val_categorical_accuracy: 0.8105\n",
      "Epoch 82/85\n",
      "10000/10000 [==============================] - 153s - loss: 0.5522 - categorical_accuracy: 0.8613 - val_loss: 0.8174 - val_categorical_accuracy: 0.8085\n",
      "Epoch 83/85\n",
      "10000/10000 [==============================] - 153s - loss: 0.5048 - categorical_accuracy: 0.8714 - val_loss: 0.8421 - val_categorical_accuracy: 0.8049\n",
      "Epoch 84/85\n",
      "10000/10000 [==============================] - 153s - loss: 0.4771 - categorical_accuracy: 0.8777 - val_loss: 0.8647 - val_categorical_accuracy: 0.8026\n",
      "Epoch 85/85\n",
      "10000/10000 [==============================] - 153s - loss: 0.4513 - categorical_accuracy: 0.8842 - val_loss: 0.8830 - val_categorical_accuracy: 0.8030\n",
      "17\n",
      "Train on 10000 samples, validate on 1000 samples\n",
      "Epoch 86/90\n",
      "10000/10000 [==============================] - 153s - loss: 0.6773 - categorical_accuracy: 0.8324 - val_loss: 0.7544 - val_categorical_accuracy: 0.8214\n",
      "Epoch 87/90\n",
      "10000/10000 [==============================] - 153s - loss: 0.5131 - categorical_accuracy: 0.8718 - val_loss: 0.7680 - val_categorical_accuracy: 0.8202\n",
      "Epoch 88/90\n",
      "10000/10000 [==============================] - 153s - loss: 0.4722 - categorical_accuracy: 0.8810 - val_loss: 0.7910 - val_categorical_accuracy: 0.8179\n",
      "Epoch 89/90\n",
      "10000/10000 [==============================] - 153s - loss: 0.4444 - categorical_accuracy: 0.8871 - val_loss: 0.8034 - val_categorical_accuracy: 0.8184\n",
      "Epoch 90/90\n",
      "10000/10000 [==============================] - 153s - loss: 0.4237 - categorical_accuracy: 0.8919 - val_loss: 0.8229 - val_categorical_accuracy: 0.8159\n",
      "18\n",
      "Train on 10000 samples, validate on 1000 samples\n",
      "Epoch 91/95\n",
      "10000/10000 [==============================] - 153s - loss: 0.6296 - categorical_accuracy: 0.8447 - val_loss: 0.6998 - val_categorical_accuracy: 0.8370\n",
      "Epoch 92/95\n",
      "10000/10000 [==============================] - 153s - loss: 0.4752 - categorical_accuracy: 0.8826 - val_loss: 0.7064 - val_categorical_accuracy: 0.8367\n",
      "Epoch 93/95\n",
      "10000/10000 [==============================] - 153s - loss: 0.4403 - categorical_accuracy: 0.8900 - val_loss: 0.7264 - val_categorical_accuracy: 0.8341\n",
      "Epoch 94/95\n"
     ]
    },
    {
     "name": "stdout",
     "output_type": "stream",
     "text": [
      "10000/10000 [==============================] - 146s - loss: 0.4190 - categorical_accuracy: 0.8945 - val_loss: 0.7597 - val_categorical_accuracy: 0.8305\n",
      "Epoch 95/95\n",
      "10000/10000 [==============================] - 146s - loss: 0.3990 - categorical_accuracy: 0.8987 - val_loss: 0.7742 - val_categorical_accuracy: 0.8298\n",
      "19\n",
      "Train on 10000 samples, validate on 1000 samples\n",
      "Epoch 96/100\n",
      "10000/10000 [==============================] - 148s - loss: 0.5915 - categorical_accuracy: 0.8551 - val_loss: 0.6835 - val_categorical_accuracy: 0.8405\n",
      "Epoch 97/100\n",
      "10000/10000 [==============================] - 146s - loss: 0.4472 - categorical_accuracy: 0.8903 - val_loss: 0.6956 - val_categorical_accuracy: 0.8412\n",
      "Epoch 98/100\n",
      "10000/10000 [==============================] - 146s - loss: 0.4136 - categorical_accuracy: 0.8975 - val_loss: 0.7024 - val_categorical_accuracy: 0.8404\n",
      "Epoch 99/100\n",
      "10000/10000 [==============================] - 146s - loss: 0.3975 - categorical_accuracy: 0.9011 - val_loss: 0.7461 - val_categorical_accuracy: 0.8343\n",
      "Epoch 100/100\n",
      "10000/10000 [==============================] - 146s - loss: 0.3786 - categorical_accuracy: 0.9049 - val_loss: 0.7626 - val_categorical_accuracy: 0.8306\n"
     ]
    }
   ],
   "source": [
    "for i in range(20):\n",
    "    print(i)\n",
    "    history = training_round(64, history)"
   ]
  },
  {
   "cell_type": "code",
   "execution_count": 20,
   "metadata": {
    "scrolled": false
   },
   "outputs": [
    {
     "name": "stdout",
     "output_type": "stream",
     "text": [
      "0\n",
      "Train on 10000 samples, validate on 1000 samples\n",
      "Epoch 1/5\n",
      "10000/10000 [==============================] - 251s - loss: 4.1157 - categorical_accuracy: 0.2910 - val_loss: 3.6453 - val_categorical_accuracy: 0.3464\n",
      "Epoch 2/5\n",
      "10000/10000 [==============================] - 247s - loss: 3.4233 - categorical_accuracy: 0.3368 - val_loss: 3.1830 - val_categorical_accuracy: 0.3896\n",
      "Epoch 3/5\n",
      "10000/10000 [==============================] - 246s - loss: 3.0112 - categorical_accuracy: 0.3886 - val_loss: 2.9223 - val_categorical_accuracy: 0.4312\n",
      "Epoch 4/5\n",
      "10000/10000 [==============================] - 246s - loss: 2.7527 - categorical_accuracy: 0.4317 - val_loss: 2.7381 - val_categorical_accuracy: 0.4600\n",
      "Epoch 5/5\n",
      "10000/10000 [==============================] - 246s - loss: 2.9271 - categorical_accuracy: 0.4052 - val_loss: 2.8879 - val_categorical_accuracy: 0.4287\n",
      "1\n",
      "Train on 10000 samples, validate on 1000 samples\n",
      "Epoch 6/10\n",
      "10000/10000 [==============================] - 250s - loss: 2.6108 - categorical_accuracy: 0.4618 - val_loss: 2.5138 - val_categorical_accuracy: 0.4984\n",
      "Epoch 7/10\n",
      "10000/10000 [==============================] - 246s - loss: 2.4387 - categorical_accuracy: 0.4926 - val_loss: 2.4319 - val_categorical_accuracy: 0.5132\n",
      "Epoch 8/10\n",
      "10000/10000 [==============================] - 248s - loss: 2.2892 - categorical_accuracy: 0.5193 - val_loss: 2.3752 - val_categorical_accuracy: 0.5250\n",
      "Epoch 9/10\n",
      "10000/10000 [==============================] - 246s - loss: 2.1826 - categorical_accuracy: 0.5371 - val_loss: 2.3473 - val_categorical_accuracy: 0.5275\n",
      "Epoch 10/10\n",
      "10000/10000 [==============================] - 246s - loss: 2.1076 - categorical_accuracy: 0.5489 - val_loss: 2.3223 - val_categorical_accuracy: 0.5325\n",
      "2\n",
      "Train on 10000 samples, validate on 1000 samples\n",
      "Epoch 11/15\n",
      "10000/10000 [==============================] - 252s - loss: 2.2022 - categorical_accuracy: 0.5363 - val_loss: 2.2125 - val_categorical_accuracy: 0.5524\n",
      "Epoch 12/15\n",
      "10000/10000 [==============================] - 247s - loss: 2.0489 - categorical_accuracy: 0.5626 - val_loss: 2.2195 - val_categorical_accuracy: 0.5501\n",
      "Epoch 13/15\n",
      "10000/10000 [==============================] - 247s - loss: 2.0346 - categorical_accuracy: 0.5643 - val_loss: 2.1324 - val_categorical_accuracy: 0.5652\n",
      "Epoch 14/15\n",
      "10000/10000 [==============================] - 247s - loss: 1.9162 - categorical_accuracy: 0.5835 - val_loss: 2.1200 - val_categorical_accuracy: 0.5655\n",
      "Epoch 15/15\n",
      "10000/10000 [==============================] - 247s - loss: 1.8486 - categorical_accuracy: 0.5954 - val_loss: 2.0815 - val_categorical_accuracy: 0.5723\n",
      "3\n",
      "Train on 10000 samples, validate on 1000 samples\n",
      "Epoch 16/20\n",
      "10000/10000 [==============================] - 251s - loss: 1.9483 - categorical_accuracy: 0.5787 - val_loss: 1.9787 - val_categorical_accuracy: 0.5891\n",
      "Epoch 17/20\n",
      "10000/10000 [==============================] - 247s - loss: 1.8088 - categorical_accuracy: 0.6029 - val_loss: 1.9588 - val_categorical_accuracy: 0.5913\n",
      "Epoch 18/20\n",
      "10000/10000 [==============================] - 247s - loss: 1.7332 - categorical_accuracy: 0.6150 - val_loss: 1.9249 - val_categorical_accuracy: 0.6000\n",
      "Epoch 19/20\n",
      "10000/10000 [==============================] - 247s - loss: 1.6697 - categorical_accuracy: 0.6251 - val_loss: 1.9459 - val_categorical_accuracy: 0.5936\n",
      "Epoch 20/20\n",
      "10000/10000 [==============================] - 247s - loss: 1.6119 - categorical_accuracy: 0.6342 - val_loss: 1.9037 - val_categorical_accuracy: 0.6006\n",
      "4\n",
      "Train on 10000 samples, validate on 1000 samples\n",
      "Epoch 21/25\n",
      "10000/10000 [==============================] - 253s - loss: 1.9035 - categorical_accuracy: 0.5889 - val_loss: 1.8444 - val_categorical_accuracy: 0.6130\n",
      "Epoch 22/25\n",
      "10000/10000 [==============================] - 248s - loss: 1.6424 - categorical_accuracy: 0.6333 - val_loss: 1.7919 - val_categorical_accuracy: 0.6231\n",
      "Epoch 23/25\n",
      "10000/10000 [==============================] - 247s - loss: 1.5543 - categorical_accuracy: 0.6477 - val_loss: 1.7706 - val_categorical_accuracy: 0.6265\n",
      "Epoch 24/25\n",
      "10000/10000 [==============================] - 247s - loss: 1.4932 - categorical_accuracy: 0.6581 - val_loss: 1.7600 - val_categorical_accuracy: 0.6279\n",
      "Epoch 25/25\n",
      "10000/10000 [==============================] - 247s - loss: 1.4372 - categorical_accuracy: 0.6680 - val_loss: 1.7695 - val_categorical_accuracy: 0.6264\n",
      "5\n",
      "Train on 10000 samples, validate on 1000 samples\n",
      "Epoch 26/30\n",
      "10000/10000 [==============================] - 251s - loss: 1.5909 - categorical_accuracy: 0.6415 - val_loss: 1.6576 - val_categorical_accuracy: 0.6484\n",
      "Epoch 27/30\n",
      "10000/10000 [==============================] - 247s - loss: 1.4504 - categorical_accuracy: 0.6679 - val_loss: 1.6342 - val_categorical_accuracy: 0.6530\n",
      "Epoch 28/30\n",
      "10000/10000 [==============================] - 249s - loss: 1.3807 - categorical_accuracy: 0.6804 - val_loss: 1.6338 - val_categorical_accuracy: 0.6532\n",
      "Epoch 29/30\n",
      "10000/10000 [==============================] - 247s - loss: 1.3246 - categorical_accuracy: 0.6900 - val_loss: 1.6243 - val_categorical_accuracy: 0.6552\n",
      "Epoch 30/30\n",
      "10000/10000 [==============================] - 247s - loss: 1.2780 - categorical_accuracy: 0.6985 - val_loss: 1.6100 - val_categorical_accuracy: 0.6593\n",
      "6\n",
      "Train on 10000 samples, validate on 1000 samples\n",
      "Epoch 31/35\n",
      "10000/10000 [==============================] - 251s - loss: 1.4438 - categorical_accuracy: 0.6680 - val_loss: 1.4944 - val_categorical_accuracy: 0.6748\n",
      "Epoch 32/35\n",
      "10000/10000 [==============================] - 247s - loss: 1.3017 - categorical_accuracy: 0.6960 - val_loss: 1.4717 - val_categorical_accuracy: 0.6793\n",
      "Epoch 33/35\n",
      "10000/10000 [==============================] - 249s - loss: 1.2344 - categorical_accuracy: 0.7084 - val_loss: 1.4883 - val_categorical_accuracy: 0.6762\n",
      "Epoch 34/35\n",
      " 5440/10000 [===============>..............] - ETA: 110s - loss: 1.1819 - categorical_accuracy: 0.7184"
     ]
    },
    {
     "ename": "KeyboardInterrupt",
     "evalue": "",
     "output_type": "error",
     "traceback": [
      "\u001b[0;31m---------------------------------------------------------------------------\u001b[0m",
      "\u001b[0;31mKeyboardInterrupt\u001b[0m                         Traceback (most recent call last)",
      "\u001b[0;32m<ipython-input-20-33eeec2a7a89>\u001b[0m in \u001b[0;36m<module>\u001b[0;34m\u001b[0m\n\u001b[1;32m      2\u001b[0m \u001b[0;32mfor\u001b[0m \u001b[0mi\u001b[0m \u001b[0;32min\u001b[0m \u001b[0mrange\u001b[0m\u001b[0;34m(\u001b[0m\u001b[0;36m20\u001b[0m\u001b[0;34m)\u001b[0m\u001b[0;34m:\u001b[0m\u001b[0;34m\u001b[0m\u001b[0m\n\u001b[1;32m      3\u001b[0m     \u001b[0mprint\u001b[0m\u001b[0;34m(\u001b[0m\u001b[0mi\u001b[0m\u001b[0;34m)\u001b[0m\u001b[0;34m\u001b[0m\u001b[0m\n\u001b[0;32m----> 4\u001b[0;31m     \u001b[0mhistory\u001b[0m \u001b[0;34m=\u001b[0m \u001b[0mtraining_round\u001b[0m\u001b[0;34m(\u001b[0m\u001b[0;36m128\u001b[0m\u001b[0;34m,\u001b[0m \u001b[0mhistory\u001b[0m\u001b[0;34m)\u001b[0m\u001b[0;34m\u001b[0m\u001b[0m\n\u001b[0m",
      "\u001b[0;32m<ipython-input-17-3b7e9ea18de8>\u001b[0m in \u001b[0;36mtraining_round\u001b[0;34m(max_len, history)\u001b[0m\n\u001b[1;32m      9\u001b[0m                             \u001b[0mepochs\u001b[0m\u001b[0;34m=\u001b[0m\u001b[0minitial_epoch\u001b[0m\u001b[0;34m+\u001b[0m\u001b[0;36m5\u001b[0m\u001b[0;34m,\u001b[0m \u001b[0mbatch_size\u001b[0m\u001b[0;34m=\u001b[0m\u001b[0;36m16\u001b[0m\u001b[0;34m,\u001b[0m\u001b[0;34m\u001b[0m\u001b[0m\n\u001b[1;32m     10\u001b[0m                             \u001b[0mvalidation_data\u001b[0m\u001b[0;34m=\u001b[0m\u001b[0;34m(\u001b[0m\u001b[0mtest\u001b[0m\u001b[0;34m.\u001b[0m\u001b[0mx\u001b[0m\u001b[0;34m,\u001b[0m \u001b[0mtest\u001b[0m\u001b[0;34m.\u001b[0m\u001b[0my\u001b[0m\u001b[0;34m)\u001b[0m\u001b[0;34m,\u001b[0m\u001b[0;34m\u001b[0m\u001b[0m\n\u001b[0;32m---> 11\u001b[0;31m                             initial_epoch=initial_epoch)\n\u001b[0m\u001b[1;32m     12\u001b[0m     \u001b[0;32mif\u001b[0m \u001b[0mhistory\u001b[0m \u001b[0;32mis\u001b[0m \u001b[0;32mNone\u001b[0m\u001b[0;34m:\u001b[0m\u001b[0;34m\u001b[0m\u001b[0m\n\u001b[1;32m     13\u001b[0m         \u001b[0mhistory\u001b[0m \u001b[0;34m=\u001b[0m \u001b[0mnewhistory\u001b[0m\u001b[0;34m.\u001b[0m\u001b[0mhistory\u001b[0m\u001b[0;34m\u001b[0m\u001b[0m\n",
      "\u001b[0;32m~/.virtualenvs/nlp-enc-gpu/lib/python3.6/site-packages/keras/engine/training.py\u001b[0m in \u001b[0;36mfit\u001b[0;34m(self, x, y, batch_size, epochs, verbose, callbacks, validation_split, validation_data, shuffle, class_weight, sample_weight, initial_epoch, **kwargs)\u001b[0m\n\u001b[1;32m   1505\u001b[0m                               \u001b[0mval_f\u001b[0m\u001b[0;34m=\u001b[0m\u001b[0mval_f\u001b[0m\u001b[0;34m,\u001b[0m \u001b[0mval_ins\u001b[0m\u001b[0;34m=\u001b[0m\u001b[0mval_ins\u001b[0m\u001b[0;34m,\u001b[0m \u001b[0mshuffle\u001b[0m\u001b[0;34m=\u001b[0m\u001b[0mshuffle\u001b[0m\u001b[0;34m,\u001b[0m\u001b[0;34m\u001b[0m\u001b[0m\n\u001b[1;32m   1506\u001b[0m                               \u001b[0mcallback_metrics\u001b[0m\u001b[0;34m=\u001b[0m\u001b[0mcallback_metrics\u001b[0m\u001b[0;34m,\u001b[0m\u001b[0;34m\u001b[0m\u001b[0m\n\u001b[0;32m-> 1507\u001b[0;31m                               initial_epoch=initial_epoch)\n\u001b[0m\u001b[1;32m   1508\u001b[0m \u001b[0;34m\u001b[0m\u001b[0m\n\u001b[1;32m   1509\u001b[0m     \u001b[0;32mdef\u001b[0m \u001b[0mevaluate\u001b[0m\u001b[0;34m(\u001b[0m\u001b[0mself\u001b[0m\u001b[0;34m,\u001b[0m \u001b[0mx\u001b[0m\u001b[0;34m,\u001b[0m \u001b[0my\u001b[0m\u001b[0;34m,\u001b[0m \u001b[0mbatch_size\u001b[0m\u001b[0;34m=\u001b[0m\u001b[0;36m32\u001b[0m\u001b[0;34m,\u001b[0m \u001b[0mverbose\u001b[0m\u001b[0;34m=\u001b[0m\u001b[0;36m1\u001b[0m\u001b[0;34m,\u001b[0m \u001b[0msample_weight\u001b[0m\u001b[0;34m=\u001b[0m\u001b[0;32mNone\u001b[0m\u001b[0;34m)\u001b[0m\u001b[0;34m:\u001b[0m\u001b[0;34m\u001b[0m\u001b[0m\n",
      "\u001b[0;32m~/.virtualenvs/nlp-enc-gpu/lib/python3.6/site-packages/keras/engine/training.py\u001b[0m in \u001b[0;36m_fit_loop\u001b[0;34m(self, f, ins, out_labels, batch_size, epochs, verbose, callbacks, val_f, val_ins, shuffle, callback_metrics, initial_epoch)\u001b[0m\n\u001b[1;32m   1154\u001b[0m                 \u001b[0mbatch_logs\u001b[0m\u001b[0;34m[\u001b[0m\u001b[0;34m'size'\u001b[0m\u001b[0;34m]\u001b[0m \u001b[0;34m=\u001b[0m \u001b[0mlen\u001b[0m\u001b[0;34m(\u001b[0m\u001b[0mbatch_ids\u001b[0m\u001b[0;34m)\u001b[0m\u001b[0;34m\u001b[0m\u001b[0m\n\u001b[1;32m   1155\u001b[0m                 \u001b[0mcallbacks\u001b[0m\u001b[0;34m.\u001b[0m\u001b[0mon_batch_begin\u001b[0m\u001b[0;34m(\u001b[0m\u001b[0mbatch_index\u001b[0m\u001b[0;34m,\u001b[0m \u001b[0mbatch_logs\u001b[0m\u001b[0;34m)\u001b[0m\u001b[0;34m\u001b[0m\u001b[0m\n\u001b[0;32m-> 1156\u001b[0;31m                 \u001b[0mouts\u001b[0m \u001b[0;34m=\u001b[0m \u001b[0mf\u001b[0m\u001b[0;34m(\u001b[0m\u001b[0mins_batch\u001b[0m\u001b[0;34m)\u001b[0m\u001b[0;34m\u001b[0m\u001b[0m\n\u001b[0m\u001b[1;32m   1157\u001b[0m                 \u001b[0;32mif\u001b[0m \u001b[0;32mnot\u001b[0m \u001b[0misinstance\u001b[0m\u001b[0;34m(\u001b[0m\u001b[0mouts\u001b[0m\u001b[0;34m,\u001b[0m \u001b[0mlist\u001b[0m\u001b[0;34m)\u001b[0m\u001b[0;34m:\u001b[0m\u001b[0;34m\u001b[0m\u001b[0m\n\u001b[1;32m   1158\u001b[0m                     \u001b[0mouts\u001b[0m \u001b[0;34m=\u001b[0m \u001b[0;34m[\u001b[0m\u001b[0mouts\u001b[0m\u001b[0;34m]\u001b[0m\u001b[0;34m\u001b[0m\u001b[0m\n",
      "\u001b[0;32m~/.virtualenvs/nlp-enc-gpu/lib/python3.6/site-packages/keras/backend/tensorflow_backend.py\u001b[0m in \u001b[0;36m__call__\u001b[0;34m(self, inputs)\u001b[0m\n\u001b[1;32m   2267\u001b[0m         updated = session.run(self.outputs + [self.updates_op],\n\u001b[1;32m   2268\u001b[0m                               \u001b[0mfeed_dict\u001b[0m\u001b[0;34m=\u001b[0m\u001b[0mfeed_dict\u001b[0m\u001b[0;34m,\u001b[0m\u001b[0;34m\u001b[0m\u001b[0m\n\u001b[0;32m-> 2269\u001b[0;31m                               **self.session_kwargs)\n\u001b[0m\u001b[1;32m   2270\u001b[0m         \u001b[0;32mreturn\u001b[0m \u001b[0mupdated\u001b[0m\u001b[0;34m[\u001b[0m\u001b[0;34m:\u001b[0m\u001b[0mlen\u001b[0m\u001b[0;34m(\u001b[0m\u001b[0mself\u001b[0m\u001b[0;34m.\u001b[0m\u001b[0moutputs\u001b[0m\u001b[0;34m)\u001b[0m\u001b[0;34m]\u001b[0m\u001b[0;34m\u001b[0m\u001b[0m\n\u001b[1;32m   2271\u001b[0m \u001b[0;34m\u001b[0m\u001b[0m\n",
      "\u001b[0;32m~/.virtualenvs/nlp-enc-gpu/lib/python3.6/site-packages/tensorflow/python/client/session.py\u001b[0m in \u001b[0;36mrun\u001b[0;34m(self, fetches, feed_dict, options, run_metadata)\u001b[0m\n\u001b[1;32m    893\u001b[0m     \u001b[0;32mtry\u001b[0m\u001b[0;34m:\u001b[0m\u001b[0;34m\u001b[0m\u001b[0m\n\u001b[1;32m    894\u001b[0m       result = self._run(None, fetches, feed_dict, options_ptr,\n\u001b[0;32m--> 895\u001b[0;31m                          run_metadata_ptr)\n\u001b[0m\u001b[1;32m    896\u001b[0m       \u001b[0;32mif\u001b[0m \u001b[0mrun_metadata\u001b[0m\u001b[0;34m:\u001b[0m\u001b[0;34m\u001b[0m\u001b[0m\n\u001b[1;32m    897\u001b[0m         \u001b[0mproto_data\u001b[0m \u001b[0;34m=\u001b[0m \u001b[0mtf_session\u001b[0m\u001b[0;34m.\u001b[0m\u001b[0mTF_GetBuffer\u001b[0m\u001b[0;34m(\u001b[0m\u001b[0mrun_metadata_ptr\u001b[0m\u001b[0;34m)\u001b[0m\u001b[0;34m\u001b[0m\u001b[0m\n",
      "\u001b[0;32m~/.virtualenvs/nlp-enc-gpu/lib/python3.6/site-packages/tensorflow/python/client/session.py\u001b[0m in \u001b[0;36m_run\u001b[0;34m(self, handle, fetches, feed_dict, options, run_metadata)\u001b[0m\n\u001b[1;32m   1122\u001b[0m     \u001b[0;32mif\u001b[0m \u001b[0mfinal_fetches\u001b[0m \u001b[0;32mor\u001b[0m \u001b[0mfinal_targets\u001b[0m \u001b[0;32mor\u001b[0m \u001b[0;34m(\u001b[0m\u001b[0mhandle\u001b[0m \u001b[0;32mand\u001b[0m \u001b[0mfeed_dict_tensor\u001b[0m\u001b[0;34m)\u001b[0m\u001b[0;34m:\u001b[0m\u001b[0;34m\u001b[0m\u001b[0m\n\u001b[1;32m   1123\u001b[0m       results = self._do_run(handle, final_targets, final_fetches,\n\u001b[0;32m-> 1124\u001b[0;31m                              feed_dict_tensor, options, run_metadata)\n\u001b[0m\u001b[1;32m   1125\u001b[0m     \u001b[0;32melse\u001b[0m\u001b[0;34m:\u001b[0m\u001b[0;34m\u001b[0m\u001b[0m\n\u001b[1;32m   1126\u001b[0m       \u001b[0mresults\u001b[0m \u001b[0;34m=\u001b[0m \u001b[0;34m[\u001b[0m\u001b[0;34m]\u001b[0m\u001b[0;34m\u001b[0m\u001b[0m\n",
      "\u001b[0;32m~/.virtualenvs/nlp-enc-gpu/lib/python3.6/site-packages/tensorflow/python/client/session.py\u001b[0m in \u001b[0;36m_do_run\u001b[0;34m(self, handle, target_list, fetch_list, feed_dict, options, run_metadata)\u001b[0m\n\u001b[1;32m   1319\u001b[0m     \u001b[0;32mif\u001b[0m \u001b[0mhandle\u001b[0m \u001b[0;32mis\u001b[0m \u001b[0;32mNone\u001b[0m\u001b[0;34m:\u001b[0m\u001b[0;34m\u001b[0m\u001b[0m\n\u001b[1;32m   1320\u001b[0m       return self._do_call(_run_fn, self._session, feeds, fetches, targets,\n\u001b[0;32m-> 1321\u001b[0;31m                            options, run_metadata)\n\u001b[0m\u001b[1;32m   1322\u001b[0m     \u001b[0;32melse\u001b[0m\u001b[0;34m:\u001b[0m\u001b[0;34m\u001b[0m\u001b[0m\n\u001b[1;32m   1323\u001b[0m       \u001b[0;32mreturn\u001b[0m \u001b[0mself\u001b[0m\u001b[0;34m.\u001b[0m\u001b[0m_do_call\u001b[0m\u001b[0;34m(\u001b[0m\u001b[0m_prun_fn\u001b[0m\u001b[0;34m,\u001b[0m \u001b[0mself\u001b[0m\u001b[0;34m.\u001b[0m\u001b[0m_session\u001b[0m\u001b[0;34m,\u001b[0m \u001b[0mhandle\u001b[0m\u001b[0;34m,\u001b[0m \u001b[0mfeeds\u001b[0m\u001b[0;34m,\u001b[0m \u001b[0mfetches\u001b[0m\u001b[0;34m)\u001b[0m\u001b[0;34m\u001b[0m\u001b[0m\n",
      "\u001b[0;32m~/.virtualenvs/nlp-enc-gpu/lib/python3.6/site-packages/tensorflow/python/client/session.py\u001b[0m in \u001b[0;36m_do_call\u001b[0;34m(self, fn, *args)\u001b[0m\n\u001b[1;32m   1325\u001b[0m   \u001b[0;32mdef\u001b[0m \u001b[0m_do_call\u001b[0m\u001b[0;34m(\u001b[0m\u001b[0mself\u001b[0m\u001b[0;34m,\u001b[0m \u001b[0mfn\u001b[0m\u001b[0;34m,\u001b[0m \u001b[0;34m*\u001b[0m\u001b[0margs\u001b[0m\u001b[0;34m)\u001b[0m\u001b[0;34m:\u001b[0m\u001b[0;34m\u001b[0m\u001b[0m\n\u001b[1;32m   1326\u001b[0m     \u001b[0;32mtry\u001b[0m\u001b[0;34m:\u001b[0m\u001b[0;34m\u001b[0m\u001b[0m\n\u001b[0;32m-> 1327\u001b[0;31m       \u001b[0;32mreturn\u001b[0m \u001b[0mfn\u001b[0m\u001b[0;34m(\u001b[0m\u001b[0;34m*\u001b[0m\u001b[0margs\u001b[0m\u001b[0;34m)\u001b[0m\u001b[0;34m\u001b[0m\u001b[0m\n\u001b[0m\u001b[1;32m   1328\u001b[0m     \u001b[0;32mexcept\u001b[0m \u001b[0merrors\u001b[0m\u001b[0;34m.\u001b[0m\u001b[0mOpError\u001b[0m \u001b[0;32mas\u001b[0m \u001b[0me\u001b[0m\u001b[0;34m:\u001b[0m\u001b[0;34m\u001b[0m\u001b[0m\n\u001b[1;32m   1329\u001b[0m       \u001b[0mmessage\u001b[0m \u001b[0;34m=\u001b[0m \u001b[0mcompat\u001b[0m\u001b[0;34m.\u001b[0m\u001b[0mas_text\u001b[0m\u001b[0;34m(\u001b[0m\u001b[0me\u001b[0m\u001b[0;34m.\u001b[0m\u001b[0mmessage\u001b[0m\u001b[0;34m)\u001b[0m\u001b[0;34m\u001b[0m\u001b[0m\n",
      "\u001b[0;32m~/.virtualenvs/nlp-enc-gpu/lib/python3.6/site-packages/tensorflow/python/client/session.py\u001b[0m in \u001b[0;36m_run_fn\u001b[0;34m(session, feed_dict, fetch_list, target_list, options, run_metadata)\u001b[0m\n\u001b[1;32m   1304\u001b[0m           return tf_session.TF_Run(session, options,\n\u001b[1;32m   1305\u001b[0m                                    \u001b[0mfeed_dict\u001b[0m\u001b[0;34m,\u001b[0m \u001b[0mfetch_list\u001b[0m\u001b[0;34m,\u001b[0m \u001b[0mtarget_list\u001b[0m\u001b[0;34m,\u001b[0m\u001b[0;34m\u001b[0m\u001b[0m\n\u001b[0;32m-> 1306\u001b[0;31m                                    status, run_metadata)\n\u001b[0m\u001b[1;32m   1307\u001b[0m \u001b[0;34m\u001b[0m\u001b[0m\n\u001b[1;32m   1308\u001b[0m     \u001b[0;32mdef\u001b[0m \u001b[0m_prun_fn\u001b[0m\u001b[0;34m(\u001b[0m\u001b[0msession\u001b[0m\u001b[0;34m,\u001b[0m \u001b[0mhandle\u001b[0m\u001b[0;34m,\u001b[0m \u001b[0mfeed_dict\u001b[0m\u001b[0;34m,\u001b[0m \u001b[0mfetch_list\u001b[0m\u001b[0;34m)\u001b[0m\u001b[0;34m:\u001b[0m\u001b[0;34m\u001b[0m\u001b[0m\n",
      "\u001b[0;31mKeyboardInterrupt\u001b[0m: "
     ]
    }
   ],
   "source": [
    "history = None\n",
    "for i in range(20):\n",
    "    print(i)\n",
    "    history = training_round(128, history)"
   ]
  },
  {
   "cell_type": "code",
   "execution_count": null,
   "metadata": {},
   "outputs": [],
   "source": [
    "history = None\n",
    "for i in range(20):\n",
    "    print(i)\n",
    "    history = training_round(64, history)"
   ]
  },
  {
   "cell_type": "code",
   "execution_count": null,
   "metadata": {},
   "outputs": [],
   "source": []
  }
 ],
 "metadata": {
  "kernelspec": {
   "display_name": "Python 3",
   "language": "python",
   "name": "python3"
  },
  "language_info": {
   "codemirror_mode": {
    "name": "ipython",
    "version": 3
   },
   "file_extension": ".py",
   "mimetype": "text/x-python",
   "name": "python",
   "nbconvert_exporter": "python",
   "pygments_lexer": "ipython3",
   "version": "3.6.6"
  }
 },
 "nbformat": 4,
 "nbformat_minor": 2
}
