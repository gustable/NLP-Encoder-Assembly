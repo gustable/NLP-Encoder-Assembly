{
 "cells": [
  {
   "cell_type": "markdown",
   "metadata": {},
   "source": [
    "# GETTING AND LOADING A CORPUS\n",
    "\n",
    "https://nlpforhackers.io/corpora/\n",
    "http://lucumr.pocoo.org/2015/11/18/pythons-hidden-re-gems/\n",
    "\n",
    "The goal of this step is to develop an initial list of each character and their spoken lines, or a cleanish list of the lines within the text. (Dictionaries are Hash value arbitrary, so may not be ordered the same. Lists are used instead.)"
   ]
  },
  {
   "cell_type": "code",
   "execution_count": 28,
   "metadata": {},
   "outputs": [],
   "source": [
    "# Select and Read a file into \"f\" using a list and stripping out all Project Gutenberg headers and footers\n",
    "\n",
    "from pathlib import Path\n",
    "import re\n",
    "idx = 1\n",
    "data_folder = Path(\"data/murray_kempton/\")\n",
    "file_to_open = data_folder / \"Drugs_&_the_CIA.txt\"\n",
    "f = open(file_to_open, 'r')\n",
    "first_document = list(f)\n",
    "#print(first_document)\n",
    "\n",
    "# Determine whether a Project Gutenberg Text\n",
    "first_header_index = 0\n",
    "second_header_index = 0\n",
    "footer_index = 0\n",
    "if any(\"GUTENBERG\" in s for s in first_document):\n",
    "    for first_header_index in range( len(first_document) ):\n",
    "        if ( ( first_document[first_header_index].find('*END*THE SMALL PRINT!') ) != -1 ) :\n",
    "            break\n",
    "        else:\n",
    "            for first_header_index in range( len(first_document) ):\n",
    "                if ( ( first_document[first_header_index].find('START OF THIS PROJECT GUTENBERG') ) != -1 ) :\n",
    "                    break        \n",
    "        \n",
    "    second_document = list(first_document[first_header_index + 1 :])\n",
    "\n",
    "    for second_header_index in range( len(second_document) ):\n",
    "        if ( ( second_document[second_header_index].find('www.gutenberg.org') ) != -1 ) :\n",
    "            break            \n",
    "    for footer_index in range( len(first_document) ):\n",
    "        if ( ( first_document[footer_index].find('End of Project') ) != -1 ) :\n",
    "            break\n",
    "        else:\n",
    "            for footer_index in range( len(first_document) ):\n",
    "                if ( ( first_document[footer_index].find('End of the Project') ) != -1 ) :\n",
    "                    break    \n",
    "        \n",
    "    print(first_header_index)            \n",
    "    print(second_header_index)\n",
    "    print(footer_index)     \n",
    "    \n",
    "    script = list()\n",
    "    if (second_header_index < (first_header_index + 100)):\n",
    "        script = list(first_document[first_header_index +1 + second_header_index +1 : footer_index-1])\n",
    "    else:\n",
    "        script = list(first_document[first_header_index +1 : footer_index-1])\n",
    "else:\n",
    "    script = first_document\n",
    "#print(script)"
   ]
  },
  {
   "cell_type": "code",
   "execution_count": 77,
   "metadata": {},
   "outputs": [],
   "source": [
    "#Compile a list of speakers\n",
    "r = re.compile(\"[A-Z0-9][A-Z0-9]+\")\n",
    "speakers = []\n",
    "for line in script:\n",
    "    mtch = r.match(line)\n",
    "    if mtch:\n",
    "        speakers.append(mtch.group())\n",
    "#print(speakers)\n",
    "\n",
    "#Omit speakers from the list of text\n",
    "s = re.compile(r\"\\b[A-Z{3}\\.]+\\b\")\n",
    "spoken = list(filter(lambda i: not s.search(i), script))\n",
    "\n",
    "#print(spoken)"
   ]
  },
  {
   "cell_type": "markdown",
   "metadata": {},
   "source": [
    "# RE-CREATING SENTENCES AND PHRASES\n",
    "\n",
    "During this step, we concatenate lines in batches to allow the identification of sentences with regular expressions. Then we identify phrases with stop words."
   ]
  },
  {
   "cell_type": "code",
   "execution_count": 30,
   "metadata": {},
   "outputs": [
    {
     "name": "stdout",
     "output_type": "stream",
     "text": [
      "Index Error at 18 2\n"
     ]
    }
   ],
   "source": [
    "#Concatenate lines into list entries for future sentence splitting\n",
    "\n",
    "newLines = []\n",
    "singleLine = ''\n",
    "singleLines = []\n",
    "\n",
    "#Remove all line returns(ok)\n",
    "for j in range(0, len(spoken)):\n",
    "    spoken[j] = spoken[j].replace('\\n', '')\n",
    "    \n",
    "#Split 5 lines at a time into new list\n",
    "for k in range( 0, len(spoken), 3):\n",
    "    newLines = []\n",
    "    for line in range( 0, 3 ):\n",
    "        try:\n",
    "            newLines.append(' '+spoken[line+k])\n",
    "        except:\n",
    "            print(\"Index Error at\", k, line)\n",
    "            break\n",
    "    #Join 5-line groups into one line and append to a list\n",
    "    singleLine = ''.join(newLines)\n",
    "    singleLines.append(singleLine)\n",
    "\n",
    "#print(singleLines)"
   ]
  },
  {
   "cell_type": "code",
   "execution_count": 31,
   "metadata": {},
   "outputs": [],
   "source": [
    "#Create list of sentences\n",
    "sentences = []\n",
    "for m in range(0, len(singleLines)):\n",
    "    mtch = re.findall(\"[A-Z][^\\.!?]*[\\.!?]\", singleLines[m], re.M|re.I)\n",
    "    if mtch:\n",
    "        sentences.append(mtch)\n",
    "#print(sentences)"
   ]
  },
  {
   "cell_type": "code",
   "execution_count": 32,
   "metadata": {
    "scrolled": false
   },
   "outputs": [],
   "source": [
    "#Clean the stopword list\n",
    "stoplist = []\n",
    "clean_line = []\n",
    "data_folder = Path(\"data/\")\n",
    "file_to_open = data_folder / \"snowball_stop.txt\"\n",
    "f = open(file_to_open, 'r')\n",
    "full_stop = list(f)\n",
    "\n",
    "for n in range( 0, len(full_stop), 1 ):\n",
    "    clean_line = full_stop[n].split('|')\n",
    "    stoplist.append(clean_line[0])\n",
    "\n",
    "for p in range(len(stoplist)):\n",
    "    stoplist[p] = stoplist[p].replace('\\n', '')\n",
    "    \n",
    "#print(stoplist)"
   ]
  },
  {
   "cell_type": "code",
   "execution_count": 33,
   "metadata": {
    "scrolled": false
   },
   "outputs": [],
   "source": [
    "#Create list of phrases using stopwords\n",
    "phrases = []\n",
    "candidate_phrases = []\n",
    "\n",
    "for q in range(len(sentences)):\n",
    "    for r in sentences[q]:\n",
    "        words = re.split(\"\\\\s+\", r)\n",
    "        previous_stop = False\n",
    " \n",
    "        # examine each word to determine if it is a phrase boundary marker or part of a phrase or alone\n",
    "        for w in words:\n",
    " \n",
    "            if w in stoplist and not previous_stop:\n",
    "                # phrase boundary encountered, so put a hard indicator\n",
    "                candidate_phrases.append(\";\")\n",
    "                previous_stop = True\n",
    "            elif w not in stoplist and len(w) > 3:\n",
    "                # keep adding words to list until a phrase boundary is detected\n",
    "                candidate_phrases.append(w.strip())\n",
    "                previous_stop = False\n",
    " \n",
    "    # get a list of candidate phrases without boundary demarcation\n",
    "    phrases = re.split(\";+\", ' '.join(candidate_phrases))\n",
    "\n",
    "# Clean up phrases    \n",
    "re2 = re.compile('[^\\.!?,\"(){}\\*:]*[\\.!?,\"(){}\\*:]')\n",
    "for s in range(len(phrases)):\n",
    "    phrases[s] = re.sub(re2, '', phrases[s])\n",
    "    phrases[s] = phrases[s].strip(' ')\n",
    "    phrases[s] = phrases[s].replace(' ', '_')\n",
    "    phrases[s] = phrases[s].replace('__', '_')\n",
    "    phrases[s] = phrases[s].strip('_')\n",
    "\n",
    "for s in range(len(phrases)):\n",
    "    try:\n",
    "        phrases.remove('')\n",
    "        phrases.remove(' ')\n",
    "        phrases.remove('/n')\n",
    "    except:\n",
    "        pass\n",
    "    \n",
    "#for t in range(len(phrases)):\n",
    "    #print(phrases[t])"
   ]
  },
  {
   "cell_type": "markdown",
   "metadata": {},
   "source": [
    "# PERFORM A PHRASE FREQUENCY COUNT\n",
    "\n",
    "Now we can identify common phrases by performing a frequency count on each phrase.  Moreover, if the corpus is large enough, commonly used phrases will be evident with higher counts across many texts.  For this reason the phrase list along with counts, will be stored in a file."
   ]
  },
  {
   "cell_type": "code",
   "execution_count": 34,
   "metadata": {},
   "outputs": [
    {
     "name": "stdout",
     "output_type": "stream",
     "text": [
      "('full_quarter', 2)\n",
      "('Yorkers', 2)\n"
     ]
    }
   ],
   "source": [
    "# Phrase frequency count\n",
    "from operator import itemgetter\n",
    "wordfreq = []\n",
    "for u in range(len(phrases)):\n",
    "    utterance = phrases[u]\n",
    "    uttcnt = 0\n",
    "    uttcnt = phrases.count(utterance)\n",
    "    if uttcnt > 1:\n",
    "        wordfreq.append(uttcnt)\n",
    "    \n",
    "zipped = list(zip(phrases, wordfreq))\n",
    "sortzip = sorted(zipped, key=itemgetter(1), reverse=True)\n",
    "\n",
    "for v in range(len(sortzip)):\n",
    "    print(sortzip[v])"
   ]
  },
  {
   "attachments": {
    "image.png": {
     "image/png": "[encoded data removed]"
    }
   },
   "cell_type": "markdown",
   "metadata": {},
   "source": [
    "# Term Frequency–Inverse Document Frequency (TF-IDF)\n",
    "![image.png](attachment:image.png)\n"
   ]
  },
  {
   "cell_type": "code",
   "execution_count": 35,
   "metadata": {},
   "outputs": [
    {
     "name": "stdout",
     "output_type": "stream",
     "text": [
      "['The', 'New', 'York', 'Times’s', 'Tim', 'Golden', 'noted', 'recently*', 'that', 'a', 'full', 'quarter', 'of', 'the', 'New', 'Yorkers', 'of', 'color', 'sampled', 'in', 'a', '1990', 'poll', 'believed', 'that', 'their', 'own', 'government', '“deliberately', 'makes', 'sure', 'that', 'drugs', 'are', 'easily', 'available', 'in', 'poor', 'black', 'neighborhoods', 'in', 'order', 'to', 'harm', 'black', 'people.', 'This', 'impression', 'of', 'willful', 'official', 'malice', 'was', 'disturbing', 'enough', 'when', 'registered', 'by', 'one', 'out', 'of', 'every', 'four', 'African', 'Americans.', 'But', 'now', 'its', 'contagions', 'seem', 'likely', 'to', 'swell', 'further', 'with', 'a', 'widening', 'spread', 'of', 'reports', 'that', 'the', 'Central', 'Intelligence', 'Agency', 'stimulated', 'the', 'crack', 'epidemic', 'in', 'the', 'inner', 'cities', 'by', 'flooding', 'them', 'with', 'cocaine', 'and', 'using', 'the', 'profits', 'to', 'fund', 'arms', 'for', 'the', 'Nicaraguan', 'contras.', 'And', 'thus,', 'once', 'again,', 'fantasy', 'leaps', 'to', 'its', 'customary', 'function', 'as', 'distraction', 'from', 'reality.', 'Theories', 'of', 'conspiracy', 'are', 'articles', 'of', 'belief', 'only', 'for', 'the', 'powerless,', 'as', 'the', 'facts', 'of', 'public', 'policy', 'are', 'articles', 'of', 'disbelief', 'for', 'the', 'powerful,', 'whose', 'comforts', 'and', 'convenience', 'depend', 'upon', 'denying', 'them.', 'Its', 'views', 'in', 'this', 'instance', 'are', 'in', 'absolute', 'harmony', 'with', 'those', 'of', 'the', 'government', 'that', 'pays', 'its', 'way', 'without', 'worrying', 'enough', 'about', 'where', 'it', 'is', 'going.', 'The', 'government', 'may', 'fairly', 'be', 'acquitted', 'of', 'damaging', 'the', 'poor', 'with', 'witting', 'stimulations', 'of', 'drug', 'sales.', 'That', 'would', 'be', 'a', 'conspiracy', 'and,', 'as', 'usual,', 'a', 'fantasy.', 'The', 'actual', 'damage', 'government', 'does', 'the', 'poor', 'is', 'taking', 'away', 'a', 'child’s', 'entitlement', 'to', 'a', 'welfare', 'allotment', 'and', 'guaranteeing', 'Medicare', 'as', 'a', 'seventieth', 'birthday', 'present', 'for', 'every', 'millionaire.', 'That', 'is', 'not', 'a', 'conspiracy', 'but', 'an', 'attitude', 'and,', 'as', 'always,', 'a', 'fact.', 'The', 'utmost', 'that', 'Golden', 'can', 'say', 'about', 'these', 'claims', 'is', 'that', 'he', 'can', 'find', '“no', 'evidence”', 'for', 'them.', 'And', 'yet', 'one', 'of', 'these', 'narcomagnates,', 'Juan', 'Meneses,', 'turns', 'out', 'to', 'be', 'blessed', 'with', 'and', 'close', 'to', 'a', 'brother', 'so', 'highly', 'placed', 'in', 'the', 'contra', 'command', 'as', 'to', 'be', 'the', 'peer', 'of', 'Enrique', 'Bermúdez,', 'its', 'chief.', 'This', 'article', 'is', 'available', 'to', 'online', 'subscribers', 'only.', 'Please', 'choose', 'from', 'one', 'of', 'the', 'options', 'below', 'to', 'access', 'this', 'article:', 'Purchase', 'an', 'Online', 'Edition', 'subscription', 'and', 'receive', 'full', 'access', 'to', 'all', 'articles', 'published', 'by', 'the', 'Review', 'since', '1963.', 'Copyright', 'å©', '1996', 'Newsday,', 'Inc.']\n"
     ]
    }
   ],
   "source": [
    "#Establish wordList\n",
    "wordList = []\n",
    "for u in range(len(sentences)):\n",
    "    for v in sentences[u]:\n",
    "        words = re.split(\"\\\\s+\", v)\n",
    "        wordList.extend(words)\n",
    "    \n",
    "#wordList = re.split(\";+\", ' '.join(wordList))\n",
    "print(wordList)"
   ]
  },
  {
   "cell_type": "code",
   "execution_count": 75,
   "metadata": {},
   "outputs": [
    {
     "name": "stdout",
     "output_type": "stream",
     "text": [
      "{'the': 3, 'new': 1, 'york': 1, 'times’s': 1, 'tim': 3, 'golden': 1, 'noted': 1, 'recently*': 1, 'that': 1, 'a': 69, 'full': 1, 'quarter': 1, 'of': 2, 'yorkers': 1, 'color': 1, 'sampled': 1, 'in': 18, '1990': 1, 'poll': 1, 'believed': 1, 'their': 1, 'own': 1, 'government': 1, '“deliberately': 1, 'makes': 1, 'sure': 1, 'drugs': 1, 'are': 3, 'easily': 1, 'available': 1, 'poor': 1, 'black': 1, 'neighborhoods': 1, 'order': 1, 'to': 2, 'harm': 1, 'people': 1, 'this': 1, 'impression': 1, 'willful': 1, 'official': 1, 'malice': 1, 'was': 1, 'disturbing': 1, 'enough': 1, 'when': 1, 'registered': 1, 'by': 1, 'one': 1, 'out': 4, 'every': 1, 'four': 1, 'african': 1, 'americans': 1, 'but': 1, 'now': 1, 'its': 2, 'contagions': 1, 'seem': 1, 'likely': 1, 'swell': 1, 'further': 1, 'with': 1, 'widening': 1, 'spread': 1, 'reports': 1, 'central': 1, 'intelligence': 1, 'agency': 1, 'stimulated': 1, 'crack': 1, 'epidemic': 1, 'inner': 1, 'cities': 1, 'flooding': 1, 'them': 1, 'cocaine': 1, 'and': 2, 'using': 1, 'profits': 1, 'fund': 1, 'arms': 1, 'for': 2, 'nicaraguan': 1, 'contras': 1, 'thus,': 1, 'once': 1, 'again,': 1, 'fantasy': 1, 'leaps': 1, 'customary': 1, 'function': 1, 'as': 8, 'distraction': 1, 'from': 1, 'reality': 1, 'theories': 1, 'conspiracy': 1, 'articles': 1, 'belief': 2, 'only': 1, 'powerless,': 1, 'facts': 1, 'public': 1, 'policy': 1, 'disbelief': 1, 'powerful,': 1, 'whose': 1, 'comforts': 1, 'convenience': 1, 'depend': 1, 'upon': 1, 'denying': 1, 'views': 1, 'instance': 1, 'absolute': 1, 'harmony': 1, 'those': 1, 'pays': 1, 'way': 3, 'without': 1, 'worrying': 1, 'about': 1, 'where': 1, 'it': 15, 'is': 10, 'going': 1, 'may': 1, 'fairly': 1, 'be': 4, 'acquitted': 1, 'damaging': 1, 'witting': 1, 'stimulations': 1, 'drug': 1, 'sales': 1, 'would': 1, 'and,': 1, 'usual,': 1, 'actual': 1, 'damage': 1, 'does': 1, 'taking': 1, 'away': 1, 'child’s': 1, 'entitlement': 1, 'welfare': 1, 'allotment': 1, 'guaranteeing': 1, 'medicare': 1, 'seventieth': 1, 'birthday': 1, 'present': 1, 'millionaire': 1, 'not': 1, 'an': 12, 'attitude': 1, 'always,': 1, 'fact': 1, 'utmost': 1, 'can': 3, 'say': 1, 'these': 1, 'claims': 1, 'he': 33, 'find': 1, '“no': 1, 'evidence”': 1, 'yet': 1, 'narcomagnates,': 1, 'juan': 1, 'meneses,': 1, 'turns': 1, 'blessed': 1, 'close': 1, 'brother': 1, 'so': 2, 'highly': 1, 'placed': 1, 'contra': 1, 'command': 1, 'peer': 1, 'enrique': 1, 'bermúdez,': 1, 'chief': 1, 'article': 1, 'online': 1, 'subscribers': 1, 'please': 1, 'choose': 1, 'options': 1, 'below': 1, 'access': 1, 'article:': 1, 'purchase': 1, 'edition': 1, 'subscription': 1, 'receive': 1, 'all': 1, 'published': 1, 'review': 1, 'since': 1, '1963': 1, 'copyright': 1, 'å©': 1, '1996': 1, 'newsday,': 1, 'inc': 2}\n"
     ]
    }
   ],
   "source": [
    "#Establish wordDict\n",
    "wordDict = {}\n",
    "for w in range(len(wordList)):\n",
    "    newWord = wordList[w]\n",
    "    newWord = newWord.lower()\n",
    "    newWord = newWord.replace('.', '')\n",
    "    wordDict[w] = newWord\n",
    "#print(wordDict)\n",
    "    \n",
    "#Perform word counts on dict\n",
    "countDict = {}\n",
    "for x in range(len(wordDict)):\n",
    "    term = wordDict[x]\n",
    "    count = 1\n",
    "    for y in range(len(wordDict)):\n",
    "        try:\n",
    "            if wordDict[y].find(term) > 0:\n",
    "                count += 1\n",
    "        except:\n",
    "            pass\n",
    "        countDict[term] = count\n",
    "print(countDict)    "
   ]
  },
  {
   "cell_type": "code",
   "execution_count": 76,
   "metadata": {
    "scrolled": false
   },
   "outputs": [
    {
     "name": "stdout",
     "output_type": "stream",
     "text": [
      "{'the': 0.008695652173913044, 'new': 0.002898550724637681, 'york': 0.002898550724637681, 'times’s': 0.002898550724637681, 'tim': 0.008695652173913044, 'golden': 0.002898550724637681, 'noted': 0.002898550724637681, 'recently*': 0.002898550724637681, 'that': 0.002898550724637681, 'a': 0.2, 'full': 0.002898550724637681, 'quarter': 0.002898550724637681, 'of': 0.005797101449275362, 'yorkers': 0.002898550724637681, 'color': 0.002898550724637681, 'sampled': 0.002898550724637681, 'in': 0.05217391304347826, '1990': 0.002898550724637681, 'poll': 0.002898550724637681, 'believed': 0.002898550724637681, 'their': 0.002898550724637681, 'own': 0.002898550724637681, 'government': 0.002898550724637681, '“deliberately': 0.002898550724637681, 'makes': 0.002898550724637681, 'sure': 0.002898550724637681, 'drugs': 0.002898550724637681, 'are': 0.008695652173913044, 'easily': 0.002898550724637681, 'available': 0.002898550724637681, 'poor': 0.002898550724637681, 'black': 0.002898550724637681, 'neighborhoods': 0.002898550724637681, 'order': 0.002898550724637681, 'to': 0.005797101449275362, 'harm': 0.002898550724637681, 'people': 0.002898550724637681, 'this': 0.002898550724637681, 'impression': 0.002898550724637681, 'willful': 0.002898550724637681, 'official': 0.002898550724637681, 'malice': 0.002898550724637681, 'was': 0.002898550724637681, 'disturbing': 0.002898550724637681, 'enough': 0.002898550724637681, 'when': 0.002898550724637681, 'registered': 0.002898550724637681, 'by': 0.002898550724637681, 'one': 0.002898550724637681, 'out': 0.011594202898550725, 'every': 0.002898550724637681, 'four': 0.002898550724637681, 'african': 0.002898550724637681, 'americans': 0.002898550724637681, 'but': 0.002898550724637681, 'now': 0.002898550724637681, 'its': 0.005797101449275362, 'contagions': 0.002898550724637681, 'seem': 0.002898550724637681, 'likely': 0.002898550724637681, 'swell': 0.002898550724637681, 'further': 0.002898550724637681, 'with': 0.002898550724637681, 'widening': 0.002898550724637681, 'spread': 0.002898550724637681, 'reports': 0.002898550724637681, 'central': 0.002898550724637681, 'intelligence': 0.002898550724637681, 'agency': 0.002898550724637681, 'stimulated': 0.002898550724637681, 'crack': 0.002898550724637681, 'epidemic': 0.002898550724637681, 'inner': 0.002898550724637681, 'cities': 0.002898550724637681, 'flooding': 0.002898550724637681, 'them': 0.002898550724637681, 'cocaine': 0.002898550724637681, 'and': 0.005797101449275362, 'using': 0.002898550724637681, 'profits': 0.002898550724637681, 'fund': 0.002898550724637681, 'arms': 0.002898550724637681, 'for': 0.005797101449275362, 'nicaraguan': 0.002898550724637681, 'contras': 0.002898550724637681, 'thus,': 0.002898550724637681, 'once': 0.002898550724637681, 'again,': 0.002898550724637681, 'fantasy': 0.002898550724637681, 'leaps': 0.002898550724637681, 'customary': 0.002898550724637681, 'function': 0.002898550724637681, 'as': 0.02318840579710145, 'distraction': 0.002898550724637681, 'from': 0.002898550724637681, 'reality': 0.002898550724637681, 'theories': 0.002898550724637681, 'conspiracy': 0.002898550724637681, 'articles': 0.002898550724637681, 'belief': 0.005797101449275362, 'only': 0.002898550724637681, 'powerless,': 0.002898550724637681, 'facts': 0.002898550724637681, 'public': 0.002898550724637681, 'policy': 0.002898550724637681, 'disbelief': 0.002898550724637681, 'powerful,': 0.002898550724637681, 'whose': 0.002898550724637681, 'comforts': 0.002898550724637681, 'convenience': 0.002898550724637681, 'depend': 0.002898550724637681, 'upon': 0.002898550724637681, 'denying': 0.002898550724637681, 'views': 0.002898550724637681, 'instance': 0.002898550724637681, 'absolute': 0.002898550724637681, 'harmony': 0.002898550724637681, 'those': 0.002898550724637681, 'pays': 0.002898550724637681, 'way': 0.008695652173913044, 'without': 0.002898550724637681, 'worrying': 0.002898550724637681, 'about': 0.002898550724637681, 'where': 0.002898550724637681, 'it': 0.043478260869565216, 'is': 0.028985507246376812, 'going': 0.002898550724637681, 'may': 0.002898550724637681, 'fairly': 0.002898550724637681, 'be': 0.011594202898550725, 'acquitted': 0.002898550724637681, 'damaging': 0.002898550724637681, 'witting': 0.002898550724637681, 'stimulations': 0.002898550724637681, 'drug': 0.002898550724637681, 'sales': 0.002898550724637681, 'would': 0.002898550724637681, 'and,': 0.002898550724637681, 'usual,': 0.002898550724637681, 'actual': 0.002898550724637681, 'damage': 0.002898550724637681, 'does': 0.002898550724637681, 'taking': 0.002898550724637681, 'away': 0.002898550724637681, 'child’s': 0.002898550724637681, 'entitlement': 0.002898550724637681, 'welfare': 0.002898550724637681, 'allotment': 0.002898550724637681, 'guaranteeing': 0.002898550724637681, 'medicare': 0.002898550724637681, 'seventieth': 0.002898550724637681, 'birthday': 0.002898550724637681, 'present': 0.002898550724637681, 'millionaire': 0.002898550724637681, 'not': 0.002898550724637681, 'an': 0.034782608695652174, 'attitude': 0.002898550724637681, 'always,': 0.002898550724637681, 'fact': 0.002898550724637681, 'utmost': 0.002898550724637681, 'can': 0.008695652173913044, 'say': 0.002898550724637681, 'these': 0.002898550724637681, 'claims': 0.002898550724637681, 'he': 0.09565217391304348, 'find': 0.002898550724637681, '“no': 0.002898550724637681, 'evidence”': 0.002898550724637681, 'yet': 0.002898550724637681, 'narcomagnates,': 0.002898550724637681, 'juan': 0.002898550724637681, 'meneses,': 0.002898550724637681, 'turns': 0.002898550724637681, 'blessed': 0.002898550724637681, 'close': 0.002898550724637681, 'brother': 0.002898550724637681, 'so': 0.005797101449275362, 'highly': 0.002898550724637681, 'placed': 0.002898550724637681, 'contra': 0.002898550724637681, 'command': 0.002898550724637681, 'peer': 0.002898550724637681, 'enrique': 0.002898550724637681, 'bermúdez,': 0.002898550724637681, 'chief': 0.002898550724637681, 'article': 0.002898550724637681, 'online': 0.002898550724637681, 'subscribers': 0.002898550724637681, 'please': 0.002898550724637681, 'choose': 0.002898550724637681, 'options': 0.002898550724637681, 'below': 0.002898550724637681, 'access': 0.002898550724637681, 'article:': 0.002898550724637681, 'purchase': 0.002898550724637681, 'edition': 0.002898550724637681, 'subscription': 0.002898550724637681, 'receive': 0.002898550724637681, 'all': 0.002898550724637681, 'published': 0.002898550724637681, 'review': 0.002898550724637681, 'since': 0.002898550724637681, '1963': 0.002898550724637681, 'copyright': 0.002898550724637681, 'å©': 0.002898550724637681, '1996': 0.002898550724637681, 'newsday,': 0.002898550724637681, 'inc': 0.005797101449275362}\n"
     ]
    }
   ],
   "source": [
    "# Computes ratio of word's appearances to total words\n",
    "bow = wordList\n",
    "bowCount = len(bow) #BOW = Bag of Words\n",
    "tfDict = {}\n",
    "for term, count in countDict.items():\n",
    "    tfDict[term] = count/float(bowCount)\n",
    "print(tfDict)"
   ]
  },
  {
   "cell_type": "code",
   "execution_count": null,
   "metadata": {},
   "outputs": [],
   "source": []
  },
  {
   "cell_type": "code",
   "execution_count": 71,
   "metadata": {},
   "outputs": [
    {
     "ename": "NameError",
     "evalue": "name 'docList' is not defined",
     "output_type": "error",
     "traceback": [
      "\u001b[0;31m---------------------------------------------------------------------------\u001b[0m",
      "\u001b[0;31mNameError\u001b[0m                                 Traceback (most recent call last)",
      "\u001b[0;32m<ipython-input-71-400c91a2c310>\u001b[0m in \u001b[0;36m<module>\u001b[0;34m()\u001b[0m\n\u001b[1;32m      2\u001b[0m \u001b[0;32mimport\u001b[0m \u001b[0mmath\u001b[0m\u001b[0;34m\u001b[0m\u001b[0m\n\u001b[1;32m      3\u001b[0m \u001b[0midfDict\u001b[0m \u001b[0;34m=\u001b[0m \u001b[0;34m{\u001b[0m\u001b[0;34m}\u001b[0m\u001b[0;34m\u001b[0m\u001b[0m\n\u001b[0;32m----> 4\u001b[0;31m \u001b[0mN\u001b[0m \u001b[0;34m=\u001b[0m \u001b[0mlen\u001b[0m\u001b[0;34m(\u001b[0m\u001b[0mdocList\u001b[0m\u001b[0;34m)\u001b[0m\u001b[0;34m\u001b[0m\u001b[0m\n\u001b[0m\u001b[1;32m      5\u001b[0m \u001b[0midfDict\u001b[0m \u001b[0;34m=\u001b[0m \u001b[0mdict\u001b[0m\u001b[0;34m.\u001b[0m\u001b[0mfromkeys\u001b[0m\u001b[0;34m(\u001b[0m\u001b[0mdocList\u001b[0m\u001b[0;34m[\u001b[0m\u001b[0;36m0\u001b[0m\u001b[0;34m]\u001b[0m\u001b[0;34m.\u001b[0m\u001b[0mkeys\u001b[0m\u001b[0;34m(\u001b[0m\u001b[0;34m)\u001b[0m\u001b[0;34m,\u001b[0m \u001b[0;36m0\u001b[0m\u001b[0;34m)\u001b[0m\u001b[0;34m\u001b[0m\u001b[0m\n\u001b[1;32m      6\u001b[0m \u001b[0;32mfor\u001b[0m \u001b[0mdoc\u001b[0m \u001b[0;32min\u001b[0m \u001b[0mdocList\u001b[0m\u001b[0;34m:\u001b[0m\u001b[0;34m\u001b[0m\u001b[0m\n",
      "\u001b[0;31mNameError\u001b[0m: name 'docList' is not defined"
     ]
    }
   ],
   "source": [
    "# Calculates the weight of rare words across all docs\n",
    "import math\n",
    "idfDict = {}\n",
    "N = len(docList)\n",
    "idfDict = dict.fromkeys(docList[0].keys(), 0)\n",
    "for doc in docList:\n",
    "    for word, val in doc.items():\n",
    "        if val > 0:\n",
    "            idfDict[word] += 1\n",
    "                \n",
    "for word, val in idfDict.items():\n",
    "    idfDict[word] = math.log10(N / float(val))\n",
    "    \n",
    "return idfDict"
   ]
  },
  {
   "cell_type": "code",
   "execution_count": null,
   "metadata": {},
   "outputs": [],
   "source": [
    "def computeTFIDF(tfBow, idfs):\n",
    "    tfidf = {}\n",
    "    for word, val in tfBow.items():\n",
    "        tfidf[word] = val*idfs[word]\n",
    "    return tfidf"
   ]
  },
  {
   "cell_type": "markdown",
   "metadata": {},
   "source": []
  }
 ],
 "metadata": {
  "kernelspec": {
   "display_name": "Python 3",
   "language": "python",
   "name": "python3"
  },
  "language_info": {
   "codemirror_mode": {
    "name": "ipython",
    "version": 3
   },
   "file_extension": ".py",
   "mimetype": "text/x-python",
   "name": "python",
   "nbconvert_exporter": "python",
   "pygments_lexer": "ipython3",
   "version": "3.6.5"
  }
 },
 "nbformat": 4,
 "nbformat_minor": 2
}
