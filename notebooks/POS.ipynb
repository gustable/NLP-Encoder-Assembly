{
 "cells": [
  {
   "cell_type": "markdown",
   "metadata": {},
   "source": [
    "## NLTK Tagger\n",
    "Here is how we can get the tags from some text"
   ]
  },
  {
   "cell_type": "code",
   "execution_count": 12,
   "metadata": {},
   "outputs": [],
   "source": [
    "import nltk"
   ]
  },
  {
   "cell_type": "code",
   "execution_count": 13,
   "metadata": {},
   "outputs": [
    {
     "name": "stderr",
     "output_type": "stream",
     "text": [
      "[nltk_data] Downloading package averaged_perceptron_tagger to\n",
      "[nltk_data]     /home/dvd/nltk_data...\n",
      "[nltk_data]   Package averaged_perceptron_tagger is already up-to-\n",
      "[nltk_data]       date!\n",
      "[nltk_data] Downloading package punkt to /home/dvd/nltk_data...\n",
      "[nltk_data]   Package punkt is already up-to-date!\n"
     ]
    },
    {
     "data": {
      "text/plain": [
       "True"
      ]
     },
     "execution_count": 13,
     "metadata": {},
     "output_type": "execute_result"
    }
   ],
   "source": [
    "from nltk import word_tokenize, pos_tag\n",
    "nltk.download('averaged_perceptron_tagger')\n",
    "nltk.download('punkt')"
   ]
  },
  {
   "cell_type": "code",
   "execution_count": 35,
   "metadata": {},
   "outputs": [],
   "source": [
    "def get_tags(text):\n",
    "    \"\"\"\n",
    "    input: text to get pos tags from\n",
    "    output: tagged vocab, a dictionary of word:tag keys and values\n",
    "    \"\"\"\n",
    "    text_tokenized = word_tokenize(text)\n",
    "    tagged_vocab = {}\n",
    "    for i in nltk.pos_tag(text_tokenized):\n",
    "        tagged_vocab[i[0]] = i[1]\n",
    "    \n",
    "    return tagged_vocab\n",
    "\n",
    "def get_tags_as_lists(text):\n",
    "    \"\"\"\n",
    "    input: text to get pos tags from\n",
    "    output: two lists, the text tokens, and pos tokens\n",
    "    \"\"\"\n",
    "    text_tokenized = word_tokenize(text)\n",
    "    text_tokens =[]\n",
    "    pos_tokens = []\n",
    "    \n",
    "    for i in nltk.pos_tag(text_tokenized):\n",
    "        text_tokens.append(i[0])\n",
    "        pos_tokens.append(i[1])\n",
    "    \n",
    "    return text_tokens, pos_tokens\n",
    "\n",
    "    "
   ]
  },
  {
   "cell_type": "code",
   "execution_count": 36,
   "metadata": {},
   "outputs": [],
   "source": [
    "text =\"And now for something completely different\""
   ]
  },
  {
   "cell_type": "code",
   "execution_count": 37,
   "metadata": {},
   "outputs": [
    {
     "name": "stdout",
     "output_type": "stream",
     "text": [
      "{'And': 'CC', 'now': 'RB', 'for': 'IN', 'something': 'NN', 'completely': 'RB', 'different': 'JJ'}\n"
     ]
    }
   ],
   "source": [
    "tagged =  get_tags(text)\n",
    "print(tagged)"
   ]
  },
  {
   "cell_type": "code",
   "execution_count": 38,
   "metadata": {},
   "outputs": [
    {
     "name": "stdout",
     "output_type": "stream",
     "text": [
      "['And', 'now', 'for', 'something', 'completely', 'different'] ['CC', 'RB', 'IN', 'NN', 'RB', 'JJ']\n"
     ]
    }
   ],
   "source": [
    "text, pos = get_tags_as_lists(text)\n",
    "print(text, pos)"
   ]
  },
  {
   "cell_type": "code",
   "execution_count": 17,
   "metadata": {},
   "outputs": [],
   "source": [
    "#filter only nouns\n",
    "def filter_by_pos(tagged_dictionary, pos):\n",
    "    return {k: v for k, v in tagged_dictionary.items() if v == pos }\n",
    "\n",
    "nouns = filter_by_pos(tagged, 'NN')"
   ]
  },
  {
   "cell_type": "code",
   "execution_count": 18,
   "metadata": {},
   "outputs": [
    {
     "data": {
      "text/plain": [
       "{'something': 'NN'}"
      ]
     },
     "execution_count": 18,
     "metadata": {},
     "output_type": "execute_result"
    }
   ],
   "source": [
    "nouns"
   ]
  },
  {
   "cell_type": "code",
   "execution_count": null,
   "metadata": {},
   "outputs": [],
   "source": []
  }
 ],
 "metadata": {
  "kernelspec": {
   "display_name": "Python 3",
   "language": "python",
   "name": "python3"
  },
  "language_info": {
   "codemirror_mode": {
    "name": "ipython",
    "version": 3
   },
   "file_extension": ".py",
   "mimetype": "text/x-python",
   "name": "python",
   "nbconvert_exporter": "python",
   "pygments_lexer": "ipython3",
   "version": "3.6.6"
  }
 },
 "nbformat": 4,
 "nbformat_minor": 2
}
