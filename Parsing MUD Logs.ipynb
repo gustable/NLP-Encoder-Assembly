{
 "cells": [
  {
   "cell_type": "markdown",
   "metadata": {},
   "source": [
    "# Parsing Logs from a MUD for Description Information"
   ]
  },
  {
   "cell_type": "code",
   "execution_count": 1,
   "metadata": {},
   "outputs": [],
   "source": [
    "import os, sys\n",
    "import re\n",
    "import json\n",
    "from triggers import *\n",
    "from pathlib import Path"
   ]
  },
  {
   "cell_type": "markdown",
   "metadata": {},
   "source": [
    "## 1.) Collect and load Logs from text source"
   ]
  },
  {
   "cell_type": "code",
   "execution_count": 40,
   "metadata": {
    "scrolled": true
   },
   "outputs": [],
   "source": [
    "data_folder = Path(\"data/mudlogs/\")\n",
    "idx = 0\n",
    "docs = {}\n",
    "document = []\n",
    "for file in data_folder.iterdir():\n",
    "    if str(file).endswith(\"test.log\"):\n",
    "        file_to_open = file\n",
    "        o = open(file_to_open, 'r')\n",
    "        documentName = idx\n",
    "        idx += 1\n",
    "        document = list(o)\n",
    "        docs[documentName] = document\n",
    "print(docs[0])"
   ]
  },
  {
   "cell_type": "code",
   "execution_count": 3,
   "metadata": {
    "scrolled": true
   },
   "outputs": [
    {
     "name": "stdout",
     "output_type": "stream",
     "text": [
      "{\"mud\": \"sloth\", \"line\": \"\\u001b[0\\\\;37mYou recall at least one encounter.  Counting beyond that is hard with all this equipment on your toes.\\u001b[0\\\\;37\\\\;40m\", \"tag\": \"mudline\", \"user\": \"final\", \"timestamp\": 1529199267.401862}\n",
      "\n",
      "{\"mud\": \"sloth\", \"line\": \"\\u001b[0m\", \"tag\": \"mudline\", \"user\": \"final\", \"timestamp\": 1529199267.405662}\n",
      "\n",
      "{\"mud\": \"sloth\", \"line\": \"\\u001b[0\\\\;37m<\\u001b[0\\\\;32m388\\u001b[0\\\\;37mhp \\u001b[0\\\\;32m274\\u001b[0\\\\;37mma \\u001b[0\\\\;33m89\\u001b[0\\\\;37mmv -%>\\u001b[0\\\\;37m\", \"tag\": \"mudline\", \"user\": \"final\", \"timestamp\": 1529199267.409178}\n",
      "\n",
      "{\"mud\": \"sloth\", \"line\": \"\", \"tag\": \"mudline\", \"user\": \"final\", \"timestamp\": 1529199267.41301}\n",
      "\n",
      "{\"mud\": \"sloth\", \"line\": \"order undead kill spider\\r\\n\", \"tag\": \"playerline\", \"user\": \"final\", \"timestamp\": 1529199268.698225}\n",
      "\n",
      "{\"mud\": \"sloth\", \"line\": \"kill spider\\r\\n\", \"tag\": \"playerline\", \"user\": \"final\", \"timestamp\": 1529199268.703387}\n",
      "\n",
      "{\"mud\": \"sloth\", \"line\": \"\\u001b[0\\\\;33mA spectre claws a creepy spider extremely hard.\\u001b[0\\\\;37\\\\;40m\", \"tag\": \"mudline\", \"user\": \"final\", \"timestamp\": 1529199269.118435}\n",
      "\n",
      "{\"mud\": \"sloth\", \"line\": \"\\u001b[0\\\\;33mThe field mouse looks around for signs of danger.\\u001b[0\\\\;37\\\\;40m\", \"tag\": \"mudline\", \"user\": \"final\", \"timestamp\": 1529199269.123372}\n",
      "\n",
      "{\"mud\": \"sloth\", \"line\": \"\\u001b[0\\\\;33mA ghoul of a drowsy black bear pounds a creepy spider very hard.\\u001b[0\\\\;37\\\\;40m\", \"tag\": \"mudline\", \"user\": \"final\", \"timestamp\": 1529199269.12758}\n",
      "\n",
      "{\"mud\": \"sloth\", \"line\": \"\\u001b[0m\", \"tag\": \"mudline\", \"user\": \"final\", \"timestamp\": 1529199269.13142}\n",
      "\n",
      "{\"mud\": \"sloth\", \"line\": \"\\u001b[0\\\\;37m<\\u001b[0\\\\;32m388\\u001b[0\\\\;37mhp \\u001b[0\\\\;32m274\\u001b[0\\\\;37mma \\u001b[0\\\\;33m90\\u001b[0\\\\;37mmv -%>\\u001b[0\\\\;37m\", \"tag\": \"mudline\", \"user\": \"final\", \"timestamp\": 1529199269.134987}\n",
      "\n",
      "{\"mud\": \"sloth\", \"line\": \"\", \"tag\": \"mudline\", \"user\": \"final\", \"timestamp\": 1529199269.138914}\n",
      "\n",
      "{\"mud\": \"sloth\", \"line\": \"cast 'fireball'\\r\\n\", \"tag\": \"playerline\", \"user\": \"final\", \"timestamp\": 1529199272.946614}\n",
      "\n",
      "{\"mud\": \"sloth\", \"line\": \"\\u001b[0\\\\;33mA spectre claws a creepy spider extremely hard.\\u001b[0\\\\;37\\\\;40m\", \"tag\": \"mudline\", \"user\": \"final\", \"timestamp\": 1529199274.801967}\n",
      "\n",
      "{\"mud\": \"sloth\", \"line\": \"\\u001b[0\\\\;33mA spectre claws a creepy spider extremely hard.\\u001b[0\\\\;37\\\\;40m\", \"tag\": \"mudline\", \"user\": \"final\", \"timestamp\": 1529199274.806286}\n",
      "\n",
      "{\"mud\": \"sloth\", \"line\": \"\\u001b[0\\\\;33mA ghoul of a drowsy black bear pounds a creepy spider very hard.\\u001b[0\\\\;37\\\\;40m\", \"tag\": \"mudline\", \"user\": \"final\", \"timestamp\": 1529199274.810168}\n",
      "\n",
      "{\"mud\": \"sloth\", \"line\": \"\\u001b[0\\\\;33mA ghoul of a drowsy black bear misses a creepy spider with its bite.\\u001b[0\\\\;37\\\\;40m\", \"tag\": \"mudline\", \"user\": \"final\", \"timestamp\": 1529199274.813842}\n",
      "\n",
      "{\"mud\": \"sloth\", \"line\": \"\\u001b[0\\\\;33mA creepy spider massacres you to small fragments with its bite.\\u001b[0\\\\;37\\\\;40m\", \"tag\": \"mudline\", \"user\": \"final\", \"timestamp\": 1529199274.817641}\n",
      "\n",
      "{\"mud\": \"sloth\", \"line\": \"\\u001b[0\\\\;33mA creepy spider hates your guts!\\u001b[0\\\\;37\\\\;40m\", \"tag\": \"mudline\", \"user\": \"final\", \"timestamp\": 1529199274.821342}\n"
     ]
    }
   ],
   "source": [
    "for line in document:\n",
    "    ansi_rem = re.compile(r'\\x1B\\[[0-?]*[ -/]*[@-~](\\\\?\\;?\\d+)*m')\n",
    "    \n",
    "    print(ansi_rem.sub('', line))"
   ]
  },
  {
   "cell_type": "code",
   "execution_count": 37,
   "metadata": {
    "scrolled": false
   },
   "outputs": [
    {
     "name": "stdout",
     "output_type": "stream",
     "text": [
      "You recall at least one encounter.  Counting beyond that is hard with all this equipment on your toes.\n",
      "{\"mud\": \"sloth\", \"line\": \"\n",
      "\", \"tag\": \"mudline\", \"user\": \"final\", \"timestamp\": 1529199267.409178}\n",
      "\n",
      "{\"mud\": \"sloth\", \"line\": \"\", \"tag\": \"mudline\", \"user\": \"final\", \"timestamp\": 1529199267.41301}\n",
      "\n",
      "{\"mud\": \"sloth\", \"line\": \"order undead kill spider\n",
      "{\"mud\": \"sloth\", \"line\": \"kill spider\n",
      "A spectre claws a creepy spider extremely hard.\n",
      "The field mouse looks around for signs of danger.\n",
      "A ghoul of a drowsy black bear pounds a creepy spider very hard.\n",
      "{\"mud\": \"sloth\", \"line\": \"\n",
      "\", \"tag\": \"mudline\", \"user\": \"final\", \"timestamp\": 1529199269.134987}\n",
      "\n",
      "{\"mud\": \"sloth\", \"line\": \"\", \"tag\": \"mudline\", \"user\": \"final\", \"timestamp\": 1529199269.138914}\n",
      "\n",
      "{\"mud\": \"sloth\", \"line\": \"cast 'fireball'\n",
      "A spectre claws a creepy spider extremely hard.\n",
      "A spectre claws a creepy spider extremely hard.\n",
      "A ghoul of a drowsy black bear pounds a creepy spider very hard.\n",
      "A ghoul of a drowsy black bear misses a creepy spider with its bite.\n",
      "A creepy spider massacres you to small fragments with its bite.\n",
      "A creepy spider hates your guts!\n"
     ]
    }
   ],
   "source": [
    "for line in document:\n",
    "    ansi_rem = re.split(r'(37m)|(33m)', line, 100)\n",
    "    stripFront = ansi_rem\n",
    "    l = len(ansi_rem)\n",
    "    #print(stripFront[l-1])\n",
    "    ansi_rem2 = re.split(r'(\\\\)', stripFront[l-1], 100)\n",
    "    stripBack = ansi_rem2\n",
    "    print(stripBack[0])"
   ]
  },
  {
   "cell_type": "code",
   "execution_count": 5,
   "metadata": {},
   "outputs": [
    {
     "ename": "RuntimeError",
     "evalue": "'{' unexpected on line 1",
     "output_type": "error",
     "traceback": [
      "\u001b[0;31m---------------------------------------------------------------------------\u001b[0m",
      "\u001b[0;31mRuntimeError\u001b[0m                              Traceback (most recent call last)",
      "\u001b[0;32m<ipython-input-5-eaa5f53b0276>\u001b[0m in \u001b[0;36m<module>\u001b[0;34m\u001b[0m\n\u001b[1;32m     39\u001b[0m \u001b[0mstatements\u001b[0m \u001b[0;34m=\u001b[0m \u001b[0;34m'''{\"mud\": \"sloth\", \"line\": \"\\u001b[0\\\\;37mYou recall at least one encounter.  Counting beyond that is hard with all this equipment on your toes.\\u001b[0\\\\;37\\\\;40m\", \"tag\": \"mudline\", \"user\": \"final\", \"timestamp\": 1529199267.401862}'''\u001b[0m\u001b[0;34m\u001b[0m\u001b[0m\n\u001b[1;32m     40\u001b[0m \u001b[0;34m\u001b[0m\u001b[0m\n\u001b[0;32m---> 41\u001b[0;31m \u001b[0;32mfor\u001b[0m \u001b[0mtoken\u001b[0m \u001b[0;32min\u001b[0m \u001b[0mtokenize\u001b[0m\u001b[0;34m(\u001b[0m\u001b[0mstatements\u001b[0m\u001b[0;34m)\u001b[0m\u001b[0;34m:\u001b[0m\u001b[0;34m\u001b[0m\u001b[0m\n\u001b[0m\u001b[1;32m     42\u001b[0m     \u001b[0mprint\u001b[0m\u001b[0;34m(\u001b[0m\u001b[0mtoken\u001b[0m\u001b[0;34m)\u001b[0m\u001b[0;34m\u001b[0m\u001b[0m\n",
      "\u001b[0;32m<ipython-input-5-eaa5f53b0276>\u001b[0m in \u001b[0;36mtokenize\u001b[0;34m(code)\u001b[0m\n\u001b[1;32m     34\u001b[0m             \u001b[0;32mcontinue\u001b[0m\u001b[0;34m\u001b[0m\u001b[0m\n\u001b[1;32m     35\u001b[0m         \u001b[0;32melif\u001b[0m \u001b[0mkind\u001b[0m \u001b[0;34m==\u001b[0m \u001b[0;34m'MISMATCH'\u001b[0m\u001b[0;34m:\u001b[0m\u001b[0;34m\u001b[0m\u001b[0m\n\u001b[0;32m---> 36\u001b[0;31m             \u001b[0;32mraise\u001b[0m \u001b[0mRuntimeError\u001b[0m\u001b[0;34m(\u001b[0m\u001b[0;34mf'{value!r} unexpected on line {line_num}'\u001b[0m\u001b[0;34m)\u001b[0m\u001b[0;34m\u001b[0m\u001b[0m\n\u001b[0m\u001b[1;32m     37\u001b[0m         \u001b[0;32myield\u001b[0m \u001b[0mToken\u001b[0m\u001b[0;34m(\u001b[0m\u001b[0mkind\u001b[0m\u001b[0;34m,\u001b[0m \u001b[0mvalue\u001b[0m\u001b[0;34m,\u001b[0m \u001b[0mline_num\u001b[0m\u001b[0;34m,\u001b[0m \u001b[0mcolumn\u001b[0m\u001b[0;34m)\u001b[0m\u001b[0;34m\u001b[0m\u001b[0m\n\u001b[1;32m     38\u001b[0m \u001b[0;34m\u001b[0m\u001b[0m\n",
      "\u001b[0;31mRuntimeError\u001b[0m: '{' unexpected on line 1"
     ]
    }
   ],
   "source": [
    "import collections\n",
    "import re\n",
    "\n",
    "Token = collections.namedtuple('Token', ['type', 'value', 'line', 'column'])\n",
    "\n",
    "def tokenize(code):\n",
    "    keywords = {'IF', 'THEN', 'ENDIF', 'FOR', 'NEXT', 'GOSUB', 'RETURN'}\n",
    "    token_specification = [\n",
    "        ('NUMBER',   r'\\d+(\\.\\d*)?'),  # Integer or decimal number\n",
    "        ('ASSIGN',   r':='),           # Assignment operator\n",
    "        ('END',      r';'),            # Statement terminator\n",
    "        ('ID',       r'[A-Za-z]+'),    # Identifiers\n",
    "        ('OP',       r'[+\\-*/]'),      # Arithmetic operators\n",
    "        ('NEWLINE',  r'\\n'),           # Line endings\n",
    "        ('SKIP',     r'[ \\t]+'),       # Skip over spaces and tabs\n",
    "        ('MISMATCH', r'.'),            # Any other character\n",
    "    ]\n",
    "    tok_regex = '|'.join('(?P<%s>%s)' % pair for pair in token_specification)\n",
    "    line_num = 1\n",
    "    line_start = 0\n",
    "    for mo in re.finditer(tok_regex, code):\n",
    "        kind = mo.lastgroup\n",
    "        value = mo.group()\n",
    "        column = mo.start() - line_start\n",
    "        if kind == 'NUMBER':\n",
    "            value = float(value) if '.' in value else int(value)\n",
    "        elif kind == 'ID' and value in keywords:\n",
    "            kind = value\n",
    "        elif kind == 'NEWLINE':\n",
    "            line_start = mo.end()\n",
    "            line_num += 1\n",
    "            continue\n",
    "        elif kind == 'SKIP':\n",
    "            continue\n",
    "        elif kind == 'MISMATCH':\n",
    "            raise RuntimeError(f'{value!r} unexpected on line {line_num}')\n",
    "        yield Token(kind, value, line_num, column)\n",
    "\n",
    "statements = '''{\"mud\": \"sloth\", \"line\": \"\\u001b[0\\\\;37mYou recall at least one encounter.  Counting beyond that is hard with all this equipment on your toes.\\u001b[0\\\\;37\\\\;40m\", \"tag\": \"mudline\", \"user\": \"final\", \"timestamp\": 1529199267.401862}'''\n",
    "\n",
    "for token in tokenize(statements):\n",
    "    print(token)"
   ]
  },
  {
   "cell_type": "markdown",
   "metadata": {},
   "source": [
    "## 3.) Keras Encoder or LSTM-DQN from \"Playing...\""
   ]
  },
  {
   "cell_type": "markdown",
   "metadata": {},
   "source": [
    "## 4.) Sentiment Analysis (optional)"
   ]
  },
  {
   "cell_type": "markdown",
   "metadata": {},
   "source": [
    "## 5.) Decoder"
   ]
  },
  {
   "cell_type": "markdown",
   "metadata": {},
   "source": [
    "## 6.) Autoencoder with two outputs: reconstructed input and predicted sentiment"
   ]
  },
  {
   "cell_type": "code",
   "execution_count": null,
   "metadata": {},
   "outputs": [],
   "source": []
  }
 ],
 "metadata": {
  "kernelspec": {
   "display_name": "Python 3",
   "language": "python",
   "name": "python3"
  },
  "language_info": {
   "codemirror_mode": {
    "name": "ipython",
    "version": 3
   },
   "file_extension": ".py",
   "mimetype": "text/x-python",
   "name": "python",
   "nbconvert_exporter": "python",
   "pygments_lexer": "ipython3",
   "version": "3.6.5"
  }
 },
 "nbformat": 4,
 "nbformat_minor": 2
}
