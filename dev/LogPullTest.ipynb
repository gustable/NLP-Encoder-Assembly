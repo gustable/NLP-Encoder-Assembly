{
 "cells": [
  {
   "cell_type": "code",
   "execution_count": 2,
   "metadata": {},
   "outputs": [],
   "source": [
    "from log2descrip import *"
   ]
  },
  {
   "cell_type": "code",
   "execution_count": 3,
   "metadata": {},
   "outputs": [
    {
     "name": "stdout",
     "output_type": "stream",
     "text": [
      "1\n",
      "2\n",
      "3\n"
     ]
    }
   ],
   "source": [
    "a = pull_logs('data/mudlogs/')\n",
    "#print(a)"
   ]
  },
  {
   "cell_type": "code",
   "execution_count": 4,
   "metadata": {},
   "outputs": [],
   "source": [
    "b = filter_desc(a)"
   ]
  },
  {
   "cell_type": "code",
   "execution_count": 5,
   "metadata": {},
   "outputs": [
    {
     "name": "stdout",
     "output_type": "stream",
     "text": [
      "0 You recall at least one encounter.  Counting beyond that is hard with all this equipment on your toes.\n",
      "1 A spectre claws a creepy spider extremely hard.\n",
      "2 The field mouse looks around for signs of danger.\n",
      "3 A ghoul of a drowsy black bear pounds a creepy spider very hard.\n",
      "4 A spectre claws a creepy spider extremely hard.\n",
      "5 A spectre claws a creepy spider extremely hard.\n",
      "6 A ghoul of a drowsy black bear pounds a creepy spider very hard.\n",
      "7 A ghoul of a drowsy black bear misses a creepy spider with its bite.\n",
      "8 A creepy spider massacres you to small fragments with its bite.\n",
      "9 A creepy spider hates your guts!\n"
     ]
    }
   ],
   "source": [
    "for k,v in b.items():\n",
    "    print(k,v)"
   ]
  },
  {
   "cell_type": "code",
   "execution_count": null,
   "metadata": {},
   "outputs": [],
   "source": []
  }
 ],
 "metadata": {
  "kernelspec": {
   "display_name": "Python 3",
   "language": "python",
   "name": "python3"
  },
  "language_info": {
   "codemirror_mode": {
    "name": "ipython",
    "version": 3
   },
   "file_extension": ".py",
   "mimetype": "text/x-python",
   "name": "python",
   "nbconvert_exporter": "python",
   "pygments_lexer": "ipython3",
   "version": "3.6.5"
  }
 },
 "nbformat": 4,
 "nbformat_minor": 2
}
