{
 "cells": [
  {
   "cell_type": "code",
   "execution_count": 1,
   "metadata": {},
   "outputs": [],
   "source": [
    "import sys\n",
    "sys.path.append(\"..\")"
   ]
  },
  {
   "cell_type": "code",
   "execution_count": 2,
   "metadata": {},
   "outputs": [
    {
     "name": "stderr",
     "output_type": "stream",
     "text": [
      "Using TensorFlow backend.\n"
     ]
    }
   ],
   "source": [
    "from keras.models import Model"
   ]
  },
  {
   "cell_type": "code",
   "execution_count": 3,
   "metadata": {},
   "outputs": [],
   "source": [
    "from sklearn.datasets import fetch_20newsgroups\n",
    "from pprint import pprint\n",
    "import numpy as np\n",
    "from numpy.linalg import norm\n",
    "import pickle"
   ]
  },
  {
   "cell_type": "code",
   "execution_count": 4,
   "metadata": {},
   "outputs": [],
   "source": [
    "from hyper_params import *\n",
    "import text_encoder as te\n",
    "import text_decoder as td\n",
    "from data_set import *"
   ]
  },
  {
   "cell_type": "code",
   "execution_count": 5,
   "metadata": {},
   "outputs": [],
   "source": [
    "import bowizer\n",
    "import tfidf"
   ]
  },
  {
   "cell_type": "code",
   "execution_count": 6,
   "metadata": {},
   "outputs": [],
   "source": [
    "with open('../data/norvig/big.txt') as f:\n",
    "    norvig = f.read()"
   ]
  },
  {
   "cell_type": "code",
   "execution_count": 7,
   "metadata": {},
   "outputs": [],
   "source": [
    "chunks = make_chunks(norvig)"
   ]
  },
  {
   "cell_type": "code",
   "execution_count": 8,
   "metadata": {},
   "outputs": [],
   "source": [
    "r = np.random.RandomState(42)"
   ]
  },
  {
   "cell_type": "code",
   "execution_count": 9,
   "metadata": {},
   "outputs": [],
   "source": [
    "r.shuffle(chunks)\n",
    "train_text, test_text = make_train_test(chunks)"
   ]
  },
  {
   "cell_type": "code",
   "execution_count": 10,
   "metadata": {},
   "outputs": [],
   "source": [
    "tm = bowizer.TokenMaker([norvig], 3000)"
   ]
  },
  {
   "cell_type": "code",
   "execution_count": 11,
   "metadata": {},
   "outputs": [],
   "source": [
    "embed_h = EmbeddingHyper(tm.vocab_size + 1, 64)\n",
    "conv_h = ConvHyper(128, 6, 4)\n",
    "rnn_h = RnnHyper(256, is_lstm=False, is_bidirectional=True, return_sequences=False)\n",
    "encoder_h = te.Hyper(embed_h, [conv_h, rnn_h])"
   ]
  },
  {
   "cell_type": "code",
   "execution_count": 12,
   "metadata": {},
   "outputs": [],
   "source": [
    "dernn_h = RnnHyper(64, is_lstm=False, is_bidirectional=False, return_sequences=True, unroll=True)\n",
    "dec_h = DeconvHyper(128, 6, 4)\n",
    "decoder_h = td.Hyper(tm.vocab_size + 1, [dernn_h, dec_h])"
   ]
  },
  {
   "cell_type": "code",
   "execution_count": 13,
   "metadata": {},
   "outputs": [],
   "source": [
    "encoder = encoder_h.make_layer()\n",
    "decoder = decoder_h.make_layer()"
   ]
  },
  {
   "cell_type": "code",
   "execution_count": 14,
   "metadata": {},
   "outputs": [],
   "source": [
    "def make_model(max_len):\n",
    "    x = Input(shape=(max_len,), name='text_input')\n",
    "    h = encoder(x)\n",
    "    h = decoder(h, max_len)\n",
    "    model = Model(x, h)\n",
    "    model.compile(optimizer='adam',\n",
    "        loss='categorical_crossentropy',\n",
    "        metrics=['categorical_accuracy'])\n",
    "\n",
    "    return model"
   ]
  },
  {
   "cell_type": "code",
   "execution_count": 15,
   "metadata": {},
   "outputs": [],
   "source": [
    "model64, model128, model256 = make_model(64), make_model(128), make_model(256)"
   ]
  },
  {
   "cell_type": "code",
   "execution_count": 16,
   "metadata": {},
   "outputs": [],
   "source": [
    "models = {64: model64, 128: model128, 256: model256 }"
   ]
  },
  {
   "cell_type": "code",
   "execution_count": 23,
   "metadata": {},
   "outputs": [],
   "source": [
    "def training_round(max_len, history=None):\n",
    "    if history is None:\n",
    "        initial_epoch = 0\n",
    "    else:\n",
    "        initial_epoch = len(history['loss'])\n",
    "    train, test = bowizer.SlicedWordData.Random(train_text, test_text, 1000, max_len, 10000, r, tm)\n",
    "    model = models[max_len]\n",
    "    newhistory = model.fit(x=train.x, y=train.y,\n",
    "                            epochs=initial_epoch+5, batch_size=16,\n",
    "                            validation_data=(test.x, test.y),\n",
    "                            initial_epoch=initial_epoch)\n",
    "    if history is None:\n",
    "        history = newhistory.history\n",
    "    else:\n",
    "        history = {key:history[key] + newhistory.history[key] for key in history.keys()}\n",
    "    return history"
   ]
  },
  {
   "cell_type": "code",
   "execution_count": 24,
   "metadata": {},
   "outputs": [],
   "source": [
    "history = None"
   ]
  },
  {
   "cell_type": "code",
   "execution_count": 25,
   "metadata": {},
   "outputs": [
    {
     "name": "stdout",
     "output_type": "stream",
     "text": [
      "0\n",
      "Train on 10000 samples, validate on 1000 samples\n",
      "Epoch 1/5\n",
      "10000/10000 [==============================] - 72s - loss: 5.0114 - categorical_accuracy: 0.2158 - val_loss: 4.8416 - val_categorical_accuracy: 0.2610\n",
      "Epoch 2/5\n",
      "10000/10000 [==============================] - 67s - loss: 4.9509 - categorical_accuracy: 0.2158 - val_loss: 4.6726 - val_categorical_accuracy: 0.2610\n",
      "Epoch 3/5\n",
      "10000/10000 [==============================] - 70s - loss: 4.8280 - categorical_accuracy: 0.2160 - val_loss: 4.5890 - val_categorical_accuracy: 0.2615\n",
      "Epoch 4/5\n",
      "10000/10000 [==============================] - 70s - loss: 4.7587 - categorical_accuracy: 0.2165 - val_loss: 4.5583 - val_categorical_accuracy: 0.2618\n",
      "Epoch 5/5\n",
      "10000/10000 [==============================] - 70s - loss: 4.7222 - categorical_accuracy: 0.2166 - val_loss: 4.5286 - val_categorical_accuracy: 0.2614\n",
      "1\n",
      "Train on 10000 samples, validate on 1000 samples\n",
      "Epoch 6/10\n",
      "10000/10000 [==============================] - 73s - loss: 4.6894 - categorical_accuracy: 0.2180 - val_loss: 4.5680 - val_categorical_accuracy: 0.2480\n",
      "Epoch 7/10\n",
      "10000/10000 [==============================] - 70s - loss: 4.6396 - categorical_accuracy: 0.2189 - val_loss: 4.5386 - val_categorical_accuracy: 0.2489\n",
      "Epoch 8/10\n",
      "10000/10000 [==============================] - 70s - loss: 4.6045 - categorical_accuracy: 0.2199 - val_loss: 4.5133 - val_categorical_accuracy: 0.2498\n",
      "Epoch 9/10\n",
      "10000/10000 [==============================] - 70s - loss: 4.5685 - categorical_accuracy: 0.2210 - val_loss: 4.4890 - val_categorical_accuracy: 0.2514\n",
      "Epoch 10/10\n",
      "10000/10000 [==============================] - 70s - loss: 4.5310 - categorical_accuracy: 0.2225 - val_loss: 4.4632 - val_categorical_accuracy: 0.2522\n"
     ]
    }
   ],
   "source": [
    "for i in range(2):\n",
    "    print(i)\n",
    "    history = training_round(64, history)"
   ]
  },
  {
   "cell_type": "code",
   "execution_count": null,
   "metadata": {},
   "outputs": [],
   "source": []
  },
  {
   "cell_type": "code",
   "execution_count": null,
   "metadata": {},
   "outputs": [],
   "source": []
  }
 ],
 "metadata": {
  "kernelspec": {
   "display_name": "Python 3",
   "language": "python",
   "name": "python3"
  },
  "language_info": {
   "codemirror_mode": {
    "name": "ipython",
    "version": 3
   },
   "file_extension": ".py",
   "mimetype": "text/x-python",
   "name": "python",
   "nbconvert_exporter": "python",
   "pygments_lexer": "ipython3",
   "version": "3.6.6"
  }
 },
 "nbformat": 4,
 "nbformat_minor": 2
}
