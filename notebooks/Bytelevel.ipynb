{
 "cells": [
  {
   "cell_type": "code",
   "execution_count": 2,
   "metadata": {},
   "outputs": [],
   "source": [
    "import sys\n",
    "sys.path.append(\"..\")"
   ]
  },
  {
   "cell_type": "code",
   "execution_count": 8,
   "metadata": {},
   "outputs": [],
   "source": [
    "from text_vae import Hyper, TextVae\n",
    "import bytelevel"
   ]
  },
  {
   "cell_type": "code",
   "execution_count": 4,
   "metadata": {},
   "outputs": [],
   "source": [
    "from keras.preprocessing.sequence import pad_sequences"
   ]
  },
  {
   "cell_type": "code",
   "execution_count": 9,
   "metadata": {},
   "outputs": [],
   "source": [
    "from sklearn.datasets import fetch_20newsgroups\n",
    "from pprint import pprint\n",
    "import numpy as np"
   ]
  },
  {
   "cell_type": "code",
   "execution_count": 27,
   "metadata": {},
   "outputs": [],
   "source": [
    "train = fetch_20newsgroups(subset='train')\n",
    "x_train = bytelevel.encode(train['data'])\n",
    "x_train = pad_sequences(x_train, 50)\n",
    "x_train_one_hot = bytelevel.onehot(x_train)\n",
    "\n",
    "test = fetch_20newsgroups(subset='test')\n",
    "x_test = bytelevel.encode(test['data'])\n",
    "x_test = pad_sequences(x_test, 50)\n",
    "x_test_one_hot = bytelevel.onehot(x_test)"
   ]
  },
  {
   "cell_type": "code",
   "execution_count": 28,
   "metadata": {},
   "outputs": [
    {
     "name": "stdout",
     "output_type": "stream",
     "text": [
      "shapes\n",
      "(?, ?, ?)\n",
      "<dtype: 'float32'>\n",
      "(?, 50, 256)\n"
     ]
    }
   ],
   "source": [
    "h = Hyper(vocab_size=256, max_length=50)\n",
    "model = TextVae(h)"
   ]
  },
  {
   "cell_type": "code",
   "execution_count": 29,
   "metadata": {},
   "outputs": [
    {
     "name": "stdout",
     "output_type": "stream",
     "text": [
      "Train on 11314 samples, validate on 7532 samples\n",
      "Epoch 1/2\n",
      "11314/11314 [==============================] - 965s - loss: 0.8454 - val_loss: 0.8274\n",
      "Epoch 2/2\n",
      "11314/11314 [==============================] - 954s - loss: 0.8620 - val_loss: 0.8763\n"
     ]
    },
    {
     "data": {
      "text/plain": [
       "<keras.callbacks.History at 0x7f274d4c24a8>"
      ]
     },
     "execution_count": 29,
     "metadata": {},
     "output_type": "execute_result"
    }
   ],
   "source": [
    "model.fit(x=x_train, y=x_train_one_hot, epochs=2, batch_size=10, validation_data=(x_test, x_test_one_hot))"
   ]
  },
  {
   "cell_type": "code",
   "execution_count": 37,
   "metadata": {},
   "outputs": [
    {
     "name": "stdout",
     "output_type": "stream",
     "text": [
      "Train on 11314 samples, validate on 7532 samples\n",
      "Epoch 1/2\n",
      "11314/11314 [==============================] - 961s - loss: 0.8699 - val_loss: 0.8699\n",
      "Epoch 2/2\n",
      "11314/11314 [==============================] - 954s - loss: 0.8669 - val_loss: 0.8691\n"
     ]
    },
    {
     "data": {
      "text/plain": [
       "<keras.callbacks.History at 0x7f2645ce4710>"
      ]
     },
     "execution_count": 37,
     "metadata": {},
     "output_type": "execute_result"
    }
   ],
   "source": [
    "model.fit(x=x_train, y=x_train_one_hot, epochs=2, batch_size=10, validation_data=(x_test, x_test_one_hot))"
   ]
  },
  {
   "cell_type": "code",
   "execution_count": 40,
   "metadata": {},
   "outputs": [
    {
     "name": "stdout",
     "output_type": "stream",
     "text": [
      "Train on 11314 samples, validate on 7532 samples\n",
      "Epoch 1/10\n",
      "11314/11314 [==============================] - 963s - loss: 0.8684 - val_loss: 0.8716\n",
      "Epoch 2/10\n",
      "11314/11314 [==============================] - 954s - loss: 0.8663 - val_loss: 0.8696\n",
      "Epoch 3/10\n",
      "11314/11314 [==============================] - 955s - loss: 0.8666 - val_loss: 0.8741\n",
      "Epoch 4/10\n",
      "11314/11314 [==============================] - 955s - loss: 0.8676 - val_loss: 0.8710\n",
      "Epoch 5/10\n",
      "11314/11314 [==============================] - 955s - loss: 0.8675 - val_loss: 0.8707\n",
      "Epoch 6/10\n",
      "11314/11314 [==============================] - 956s - loss: 0.8657 - val_loss: 0.8660\n",
      "Epoch 7/10\n",
      "11314/11314 [==============================] - 956s - loss: 0.8668 - val_loss: 0.8775\n",
      "Epoch 8/10\n",
      "11314/11314 [==============================] - 956s - loss: 0.8666 - val_loss: 0.8788\n",
      "Epoch 9/10\n",
      "11314/11314 [==============================] - 956s - loss: 0.8677 - val_loss: 0.8698\n",
      "Epoch 10/10\n",
      "11314/11314 [==============================] - 957s - loss: 0.8681 - val_loss: 0.8675\n"
     ]
    },
    {
     "data": {
      "text/plain": [
       "<keras.callbacks.History at 0x7f2645cdf0b8>"
      ]
     },
     "execution_count": 40,
     "metadata": {},
     "output_type": "execute_result"
    }
   ],
   "source": [
    "model.fit(x=x_train, y=x_train_one_hot, epochs=10, batch_size=10, validation_data=(x_test, x_test_one_hot))"
   ]
  },
  {
   "cell_type": "code",
   "execution_count": 30,
   "metadata": {},
   "outputs": [
    {
     "data": {
      "text/plain": [
       "array([[ 32, 115, 117, 109, 109, 101, 114,  32, 105, 115,  32, 116, 104,\n",
       "        101,  32,  98, 101, 115, 116,  32, 116, 105, 109, 101,  32, 116,\n",
       "        111,  32,  98, 117, 121,  46,  10,  10,   9,   9,   9,  78, 101,\n",
       "        105, 108,  32,  71,  97, 110, 100, 108, 101, 114,  10],\n",
       "       [ 76,  76,  69,  82,  32,  47,  47,  32,  49,  54,  50,  48,  51,\n",
       "         32,  87,  79,  79,  68,  83,  32,  47,  47,  32,  77,  85,  83,\n",
       "         75,  69,  71,  79,  44,  32,  87,  73,  83,  46,  32,  53,  51,\n",
       "         49,  53,  48,  32,  47,  47,  32,  85,  83,  65,  10],\n",
       "       [104, 101,  32, 110, 111, 110, 101, 120, 105, 115, 116, 101, 110,\n",
       "         99, 101,  32, 111, 102,  32,  71, 111, 100,  63,  10,  10,  73,\n",
       "        110,  32,  97,  32, 119, 111, 114, 100,  44,  32, 121, 101, 115,\n",
       "         46,  10,  10,  10, 109,  97, 116, 104, 101, 119,  10]],\n",
       "      dtype=int32)"
      ]
     },
     "execution_count": 30,
     "metadata": {},
     "output_type": "execute_result"
    }
   ],
   "source": [
    "x_test[:3]"
   ]
  },
  {
   "cell_type": "code",
   "execution_count": 41,
   "metadata": {},
   "outputs": [],
   "source": [
    "encode = model.encode(x_test[:3, :50])\n",
    "decode = model.generate(encode)"
   ]
  },
  {
   "cell_type": "code",
   "execution_count": 42,
   "metadata": {},
   "outputs": [
    {
     "data": {
      "text/plain": [
       "['                                             \\n\\n\\n\\n\\n',\n",
       " '                                             \\n\\n\\n\\n\\n',\n",
       " '                                             \\n\\n\\n\\n\\n']"
      ]
     },
     "execution_count": 42,
     "metadata": {},
     "output_type": "execute_result"
    }
   ],
   "source": [
    "bytelevel.prediction2str(decode)"
   ]
  },
  {
   "cell_type": "code",
   "execution_count": 38,
   "metadata": {},
   "outputs": [
    {
     "data": {
      "text/plain": [
       "array([16,  6,  6])"
      ]
     },
     "execution_count": 38,
     "metadata": {},
     "output_type": "execute_result"
    }
   ],
   "source": [
    "b.argmax(axis=-1)"
   ]
  },
  {
   "cell_type": "code",
   "execution_count": null,
   "metadata": {},
   "outputs": [],
   "source": []
  }
 ],
 "metadata": {
  "kernelspec": {
   "display_name": "Python 3",
   "language": "python",
   "name": "python3"
  },
  "language_info": {
   "codemirror_mode": {
    "name": "ipython",
    "version": 3
   },
   "file_extension": ".py",
   "mimetype": "text/x-python",
   "name": "python",
   "nbconvert_exporter": "python",
   "pygments_lexer": "ipython3",
   "version": "3.6.6"
  }
 },
 "nbformat": 4,
 "nbformat_minor": 2
}
