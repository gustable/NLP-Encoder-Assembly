{
 "cells": [
  {
   "cell_type": "markdown",
   "metadata": {},
   "source": [
    "# PRE-PROCESSING TEXT FOR NATURAL LANGUAGE GENERATION"
   ]
  },
  {
   "cell_type": "markdown",
   "metadata": {},
   "source": [
    "## GETTING AND LOADING A CORPUS FROM GUTENBERG\n",
    "\n",
    "https://nlpforhackers.io/corpora/\n",
    "http://lucumr.pocoo.org/2015/11/18/pythons-hidden-re-gems/\n",
    "\n",
    "The goal of this step is to develop an initial list of each character and their spoken lines, or a cleanish list of the lines within the text. (Dictionaries are Hash value arbitrary, so may not be ordered the same. Lists are used instead.)"
   ]
  },
  {
   "cell_type": "code",
   "execution_count": 38,
   "metadata": {},
   "outputs": [],
   "source": [
    "# Select and Read a file into \"f\" using a list and stripping out all Project Gutenberg headers and footers\n",
    "\n",
    "from pathlib import Path\n",
    "import re\n",
    "data_folder = Path(\"data/murray_kempton/\")\n",
    "file_to_open = data_folder / \"On_Frank_Sinatra.txt\"\n",
    "f = open(file_to_open, 'r')\n",
    "first_document = list(f)\n",
    "#print(first_document)\n",
    "\n",
    "# Determine whether a Project Gutenberg Text\n",
    "first_header_index = 0\n",
    "second_header_index = 0\n",
    "footer_index = 0\n",
    "if any(\"GUTENBERG\" in s for s in first_document):\n",
    "    for first_header_index in range( len(first_document) ):\n",
    "        if ( ( first_document[first_header_index].find('*END*THE SMALL PRINT!') ) != -1 ) :\n",
    "            break\n",
    "        else:\n",
    "            for first_header_index in range( len(first_document) ):\n",
    "                if ( ( first_document[first_header_index].find('START OF THIS PROJECT GUTENBERG') ) != -1 ) :\n",
    "                    break        \n",
    "        \n",
    "    second_document = list(first_document[first_header_index + 1 :])\n",
    "\n",
    "    for second_header_index in range( len(second_document) ):\n",
    "        if ( ( second_document[second_header_index].find('www.gutenberg.org') ) != -1 ) :\n",
    "            break            \n",
    "    for footer_index in range( len(first_document) ):\n",
    "        if ( ( first_document[footer_index].find('End of Project') ) != -1 ) :\n",
    "            break\n",
    "        else:\n",
    "            for footer_index in range( len(first_document) ):\n",
    "                if ( ( first_document[footer_index].find('End of the Project') ) != -1 ) :\n",
    "                    break    \n",
    "        \n",
    "    print(first_header_index)            \n",
    "    print(second_header_index)\n",
    "    print(footer_index)     \n",
    "    \n",
    "    script = list()\n",
    "    if (second_header_index < (first_header_index + 100)):\n",
    "        script = list(first_document[first_header_index +1 + second_header_index +1 : footer_index-1])\n",
    "    else:\n",
    "        script = list(first_document[first_header_index +1 : footer_index-1])\n",
    "else:\n",
    "    script = first_document\n",
    "\n",
    "#print(script)"
   ]
  },
  {
   "cell_type": "markdown",
   "metadata": {},
   "source": [
    "## IDENTIFYING SPEAKERS AND PARTS FROM SCRIPTS"
   ]
  },
  {
   "cell_type": "code",
   "execution_count": 39,
   "metadata": {},
   "outputs": [
    {
     "name": "stdout",
     "output_type": "stream",
     "text": [
      "['Murray Kempton', 'ADVERTISING', 'Whitney Balliett']\n"
     ]
    }
   ],
   "source": [
    "#Compile a list of speakers\n",
    "r = \"([A-Z]+[a-z]+[ ]+[A-Za-z_]+\\\\n+)|([A-Z0-9][A-Z0-9]+\\\\n+)\"\n",
    "rg = re.compile(r, re.MULTILINE)\n",
    "speakers = []\n",
    "for line in script:\n",
    "    mtch = rg.match(line)\n",
    "    if mtch:\n",
    "        speakers.append(mtch.group())\n",
    "#Remove all line returns\n",
    "for l in range(len(speakers)):\n",
    "    speakers[l] = speakers[l].replace('\\n', '') \n",
    "    \n",
    "print(speakers)"
   ]
  },
  {
   "cell_type": "markdown",
   "metadata": {},
   "source": [
    "# 11/17 START HERE"
   ]
  },
  {
   "cell_type": "code",
   "execution_count": 40,
   "metadata": {},
   "outputs": [
    {
     "name": "stdout",
     "output_type": "stream",
     "text": [
      "['On Frank Sinatra (1915–1998)\\n', 'Murray Kempton and Whitney Balliett JUNE 25, 1998 ISSUE\\n', '1.\\n', '\\n', 'Murray Kempton\\n', '\\n', 'The following was written in December 1996, when Frank Sinatra’s retirement was announced.\\n', '\\n', 'Frank Sinatra ever did the fullest duty to his art, and now he is leaving us with the duty to sum him up. My betters have already done that. One day I was dealing with Ella Fitzgerald, and the subject of Sinatra came up and her intruder-mistrusting voice suddenly softened and she said, “Frank. Just this little guy telling this story. That’s all you have to be.”\\n', '\\n', 'In 1956, Nelson Riddle thought to employ the Hollywood String Quartet as backup for Sinatra’s “Close to You” album. The HSQ found Sinatra as demanding as Schoenberg had been six years before, when it recorded “Verklärte Nacht” and so gratified its composer that he felt himself fully defined and registered his satisfaction by writing the liner notes. Sinatra asked not a whit less than Schoenberg, and Eleanor Aller, the HSQ’s cellist, has remembered the delight of the challenge and fulfillment as “the sort of thing in which you just enjoy every minute, because the man is so musical.”\\n', '\\n', 'ADVERTISING\\n', 'And so those made newly aware of the summit of America-bred chamber music that was the Hollywood String Quartet would do well to catch those four on “The Lady Is a Tramp” and understand that the HSQ’s glorious decade belongs not only to Schoenberg and Schubert but to Frank Sinatra, too.\\n', '\\n', 'For Frank Sinatra knew, as every artist must, that there is no such thing as trash that cannot be transcended. He also knew the second great lesson, which is that everything is there to be stolen if you have the taste to confine your larcenies to the worth-taking. We cannot appreciate the work if we overlook its elements of creative plagiarism.\\n', '\\n', 'The porkpie hat and the walk into the shadows of loneliness with the light at his back are all taken intact from the “One for My Baby” that Fred Astaire consummated in the unjustly forgotten movie The Sky’s the Limit. I remember when Sinatra was trying to put together a sextet for the Kennedy Inaugural and finally had to tell Milton Berle, “Look, Milton, the only way you’ll ever learn to sing is to listen to Billie Holiday and find out how to play out a note.” The Lord had given him his voice; mother wit and a magpie’s cunning account for the enduring distinction of the rest.\\n', '\\n', 'Our relations were always cordial, however fleeting, but it didn’t take too long to recognize the puritanical little boy beneath the skin. Once we passed a few minutes after a Kennedy rally in Los Angeles. Sinatra was in the full fit of enchainment in the great clan’s thrall, and said how great they all were: “Jack, Jackie, the ambassador, Bobby, and every one of them.”\\n', '\\n', 'He had to confess, all the same, that he was coming to doubt that Peter Lawford, the brother-in-law, had the moral fiber befitting his grand connections.\\n', '\\n', '“Do you mean to say,” I, puzzled, asked, “that, when you and Sammy Davis throw a wild night, Peter Lawford comes along?”\\n', '\\n', '“Yes,” Sinatra replied. “That’s just what I mean.”\\n', '\\n', 'And he did, because at bottom he believed—and could rise every morning and believe again—that love is eternal and fidelity is a sacred trust. There and only there was his secret. What would Don Giovanni be except merely coarse bouffe if the Don could not so unvaryingly persuade himself that each fresh object of trifling fancy is his lifetime’s love?\\n', '\\n', 'No, if you want to know why Frank Sinatra will intrude himself into the bloodstream of our memories if we survive to a hundred and five, forget the grown man he never became and look for the little boy he could not quite stop being, because that is the little boy who goes about searching for and singing about the love that will always last.\\n', '\\n', '2.\\n', '\\n', 'Whitney Balliett\\n', '\\n', 'Frank Sinatra’s singing was the only one of his careers—as a natural actor, a tough guy, a mafia friend, a womanizer, a nouveau riche, a political chameleon—that really mattered. (But he had one other largely secret career as a samaritan who was always at the ready when one of his friends—say the singer Sylvia Syms, or the composer Alec Wilder—fell ill or into trouble.) He had a microphone voice, a light baritone of barely two octaves with a slightly quavery Twenties vibrato that he learned to control almost immediately. His voice had a kind of open density, a Hoboken bel canto quality; despite his host of imitators, you invariably knew who it was one measure in. His sometimes baggy emotional range, his easy swing, shapely dynamics, and extraordinary enunciation (try to find a garbled word in a Sinatra lyric) came directly from Bing Crosby and, later in his life, Billie Holiday. But Sinatra also learned from two other disparate masters—his old boss, the trombonist and bandleader Tommy Dorsey, whose long notes hung in the air like gliders; and from the great cabaret singer Mabel Mercer, who had a three-dimensional, mother-hen way of phrasing. The writer and lyricist Gene Lees has called Sinatra our “poet laureate.” Good, but Sinatra didn’t write songs; he got inside them, found their poetry, and gave it to us.\\n', '\\n', 'Sinatra “retired” in 1971, but was back on the road a year later. In 1974, he gave a wonderful concert in the huge Nassau Coliseum on Long Island. I went to the concert, and the end of my review read: “Although Sinatra worked in the round, he remained effortless, turning in a slow-as-Earth motion that allowed every one of us to feel, no matter how briefly, his radiance.” Three weeks later—so much for his celebrated hatred of the press—a letter arrived from him. It began: “I did not plan ahead for my unretirement period, so Imust apologize for the delay in expressing my deep appreciation for your kind words.” He went on in the second and last paragraph, his own way of speaking suddenly ringing out: “It felt good—hell, it was great—to be back on stage again.”\\n', '\\n', 'Sinatra’s best singing came in two indivisible parts: the cocky, supreme voice, and his passion for the songs of Kern and Gershwin and Arlen and Berlin and Rodgers and Porter. He helped turn them into our American lieder.\\n', '\\n', 'Copyright © 1996 Newsday, Inc.\\n', '\\n', '© 1963-2018 NYREV, Inc. All rights reserved.\\n']\n"
     ]
    }
   ],
   "source": [
    "#Omit speakers Section Numbers and line numbers from the list of lines\n",
    "s = re.compile(\"(\\b[A-Z{3}\\.]+\\b)|([0-9]*\\.+\\\\*n+\\\\n)\")\n",
    "spoken = list(filter(lambda i: not s.search(i), script))\n",
    "\n",
    "    ##\\\\n\n",
    "    ##.*(\\'.*\\')\n",
    "    ##[0-9]*\\.+\\\\*n\n",
    "print(spoken)\n"
   ]
  },
  {
   "cell_type": "markdown",
   "metadata": {},
   "source": [
    "## IDENTIFYING SENTENCES AND PHRASES\n",
    "\n",
    "During this step, we concatenate lines in batches to allow the identification of sentences with regular expressions. Then we identify phrases with stop words."
   ]
  },
  {
   "cell_type": "code",
   "execution_count": 41,
   "metadata": {},
   "outputs": [],
   "source": [
    "#Concatenate lines into list entries for future sentence splitting\n",
    "\n",
    "newLines = []\n",
    "singleLine = ''\n",
    "singleLines = []\n",
    "\n",
    "#Remove all line returns\n",
    "for j in range(0, len(spoken)):\n",
    "    spoken[j] = spoken[j].replace('\\n', '')\n",
    "    spoken[j] = spoken[j].replace('1.', '')\n",
    "    \n",
    "#Split 5 lines at a time into new list\n",
    "for k in range( 0, len(spoken), 3):\n",
    "    newLines = []\n",
    "    for line in range( 0, 3 ):\n",
    "        try:\n",
    "            newLines.append(' '+spoken[line+k])\n",
    "        except:\n",
    "            #print(\"Index Error at\", k, line)\n",
    "            break\n",
    "    #Join 5-line groups into one line and append to a list\n",
    "    singleLine = ''.join(newLines)\n",
    "    singleLines.append(singleLine)\n",
    "\n",
    "#print(singleLines)"
   ]
  },
  {
   "cell_type": "markdown",
   "metadata": {},
   "source": [
    "## CREATING A LIST OF SENTENCES FROM A TEXT"
   ]
  },
  {
   "cell_type": "code",
   "execution_count": null,
   "metadata": {
    "scrolled": false
   },
   "outputs": [],
   "source": [
    "#Create list of sentences\n",
    "sentences = []\n",
    "for m in range(0, len(singleLines)):\n",
    "    mtch = re.findall(\"\\A[A-Z]*[^\\.!?]*[\\.!?]\", singleLines[m], re.M|re.I)\n",
    "    if mtch:\n",
    "        sentences.append(mtch)\n",
    "print(sentences)"
   ]
  },
  {
   "cell_type": "markdown",
   "metadata": {},
   "source": [
    "## CREATING A LIST OF PHRASES"
   ]
  },
  {
   "cell_type": "code",
   "execution_count": null,
   "metadata": {
    "scrolled": false
   },
   "outputs": [],
   "source": [
    "#Clean the stopword list\n",
    "stoplist = []\n",
    "clean_line = []\n",
    "data_folder = Path(\"data/\")\n",
    "file_to_open = data_folder / \"snowball_stop.txt\"\n",
    "f = open(file_to_open, 'r')\n",
    "full_stop = list(f)\n",
    "\n",
    "for n in range( 0, len(full_stop), 1 ):\n",
    "    clean_line = full_stop[n].split('|')\n",
    "    stoplist.append(clean_line[0])\n",
    "\n",
    "for p in range(len(stoplist)):\n",
    "    stoplist[p] = stoplist[p].replace('\\n', '')\n",
    "    \n",
    "#print(stoplist)"
   ]
  },
  {
   "cell_type": "code",
   "execution_count": null,
   "metadata": {
    "scrolled": false
   },
   "outputs": [],
   "source": [
    "# Create list of phrases using stopwords\n",
    "phrases = []\n",
    "candidate_phrases = []\n",
    "\n",
    "for q in range(len(sentences)):\n",
    "    for r in sentences[q]:\n",
    "        words = re.split(\"\\\\s+\", r)\n",
    "        previous_stop = False\n",
    " \n",
    "        # Examine each word to determine if it is a phrase boundary marker or part of a phrase or alone\n",
    "        for w in words:\n",
    " \n",
    "            if w in stoplist and not previous_stop:\n",
    "                # phrase boundary encountered, so put a hard indicator\n",
    "                candidate_phrases.append(\";\")\n",
    "                previous_stop = True\n",
    "            elif w not in stoplist and len(w) > 3:\n",
    "                # keep adding words to list until a phrase boundary is detected\n",
    "                candidate_phrases.append(w.strip())\n",
    "                previous_stop = False\n",
    " \n",
    "    # Create a list of candidate phrases without boundary demarcation\n",
    "    phrases = re.split(\";+\", ' '.join(candidate_phrases))\n",
    "\n",
    "# Clean up phrases    \n",
    "re2 = re.compile('[^\\.!?,\"(){}\\*:]*[\\.!?,\"(){}\\*:]')\n",
    "for s in range(len(phrases)):\n",
    "    phrases[s] = re.sub(re2, '', phrases[s])\n",
    "    phrases[s] = phrases[s].strip(' ')\n",
    "    phrases[s] = phrases[s].replace(' ', '_')\n",
    "    phrases[s] = phrases[s].replace('__', '_')\n",
    "    phrases[s] = phrases[s].strip('_')\n",
    "\n",
    "for s in range(len(phrases)):\n",
    "    try:\n",
    "        phrases.remove('')\n",
    "        phrases.remove(' ')\n",
    "        phrases.remove('/n')\n",
    "    except:\n",
    "        pass\n",
    "    \n",
    "for t in range(50):\n",
    "    print(phrases[t])\n",
    "\n",
    "#print(phrases)\n",
    "# Probably we'll want to remove stop words from the list of phrases at the end of this."
   ]
  },
  {
   "attachments": {
    "image.png": {
     "image/png": "[encoded data removed]"
    }
   },
   "cell_type": "markdown",
   "metadata": {},
   "source": [
    "## TERM FREQUENCY–INVERSE DOCUMENT FREQUENCY (TF-IDF)\n",
    "![image.png](attachment:image.png)\n",
    "The quintessential early Natural Language Processing tool, the TF-IDF analysis for context and sentiment evaluation is useful only over a large corpus. It must be understood that the corpus is not just a sample to be evaluated, but instead is the entire population that sets a 'benchmark' for evaluation, if you will. \n",
    "\n",
    "Here we establish a Term Frequency (TF) count of word frequencies, just as we showed a phrase frequency count in the last step in this notebook."
   ]
  },
  {
   "cell_type": "markdown",
   "metadata": {},
   "source": [
    "## CREATING A WORD LIST and then a DICTIONARY"
   ]
  },
  {
   "cell_type": "code",
   "execution_count": null,
   "metadata": {},
   "outputs": [],
   "source": [
    "#Establish wordList\n",
    "wordList = []\n",
    "for u in range(len(sentences)):\n",
    "    for v in sentences[u]:\n",
    "        words = re.split(\"\\\\s+\", v)\n",
    "        wordList.extend(words)\n",
    "        \n",
    "#for w in range(50):\n",
    "    #print(wordList[w])"
   ]
  },
  {
   "cell_type": "code",
   "execution_count": null,
   "metadata": {
    "scrolled": false
   },
   "outputs": [],
   "source": [
    "#Establish wordDict\n",
    "wordDict = {}\n",
    "for w in range(len(wordList)):\n",
    "    newWord = wordList[w]\n",
    "    newWord = newWord.lower()\n",
    "    newWord = newWord.replace('.', '')\n",
    "    wordDict[w] = newWord\n",
    "#print(wordDict)"
   ]
  },
  {
   "cell_type": "markdown",
   "metadata": {},
   "source": [
    "## PERFORM WORD COUNT ON THE DICTIONARY"
   ]
  },
  {
   "cell_type": "code",
   "execution_count": null,
   "metadata": {},
   "outputs": [],
   "source": [
    "\n",
    "countDict = {}\n",
    "for x in range(len(wordDict)):\n",
    "    term = wordDict[x]\n",
    "    count = 1\n",
    "    for y in range(len(wordDict)):\n",
    "        try:\n",
    "            if wordDict[y].find(term) > 0:\n",
    "                count += 1\n",
    "        except:\n",
    "            pass\n",
    "        countDict[term] = count\n",
    "\n",
    "for k, v in countDict.items():\n",
    "    print(k, v)"
   ]
  },
  {
   "cell_type": "code",
   "execution_count": null,
   "metadata": {
    "scrolled": false
   },
   "outputs": [],
   "source": [
    "# Computes ratio of word's appearances to total words\n",
    "bow = wordList\n",
    "bowCount = len(bow) #BOW = Bag of Words\n",
    "tfDict = {}\n",
    "for term, count in countDict.items():\n",
    "    tfDict[term] = count/float(bowCount)\n",
    "\n",
    "num = dict(sorted(tfDict.items(), key=lambda x: x[1], reverse = True))\n",
    "#for (k, v in num.items()):\n",
    "    #print(k, v)"
   ]
  },
  {
   "cell_type": "markdown",
   "metadata": {},
   "source": [
    "## PERFORM A PHRASE FREQUENCY COUNT\n",
    "\n",
    "Now we can identify common phrases by performing a frequency count on each phrase.  Moreover, if the corpus is large enough, commonly used phrases will be evident with higher counts across many texts.  For this reason the phrase list along with counts, will be stored in a file."
   ]
  },
  {
   "cell_type": "code",
   "execution_count": null,
   "metadata": {},
   "outputs": [],
   "source": [
    "# Phrase frequency count\n",
    "from operator import itemgetter\n",
    "wordfreq = []\n",
    "for u in range(len(phrases)):\n",
    "    utterance = phrases[u]\n",
    "    uttcnt = 0\n",
    "    uttcnt = phrases.count(utterance)\n",
    "    if uttcnt > 1:\n",
    "        wordfreq.append(uttcnt)\n",
    "    \n",
    "zipped = list(zip(phrases, wordfreq))\n",
    "sortzip = sorted(zipped, key=itemgetter(1), reverse=True)\n",
    "phraseFreqDict = dict(sortzip)\n"
   ]
  },
  {
   "cell_type": "code",
   "execution_count": null,
   "metadata": {},
   "outputs": [],
   "source": [
    "\"\"\"\n",
    "If a sentence is usually 'subject' then 'verb' and then 'noun', we could assume that a good sentence or \n",
    "phrase (which could or also could not be a sentence), would have that structure. Simply, the common research topics \n",
    "of 'attention' 'sentiment' and 'semantics' match these structural terms in functionality, at least somewhat. \n",
    "We use a trifecta of unit vectors initially therefore to represent each of these terms, and apply them in a relatively \n",
    "intuitive fashion. Semantics are often considered ordinal and therefore a vector in 3-space could be (1,1,0). Taking a \n",
    "cartesian approach to the 3-space, Sentiment could be described as (1,0,1) when flat and Attention has been described \n",
    "as nearly orthogonal to sentiment and could therefore be (0,1,1).\n",
    "\"\"\"\n",
    "\n",
    "import xxhash, numpy\n",
    "from keras.preprocessing.text import one_hot\n",
    "\n",
    "phraseDictH = {}\n",
    "# Estimate the size of the vocabulary\n",
    "vocabSize = len(phrases)\n",
    "docSize = len(spoken)\n",
    "phraseFreqs = phraseFreqDict.values()\n",
    "phraseVocab = phraseFreqDict.keys() \n",
    "\n",
    "# Return a dictionary whose keys are phrase tokens, the values are the indices       \n",
    "#START HERE\n",
    "for key,val in phraseFreqDict.items():\n",
    "    newPhrase = phraseFreqDict[val]\n",
    "    print(newPhrase)\n",
    "    # First Hash the Phrases\n",
    "    hashedPhrase = xxhash.xxh32(newPhrase, seed=60155748).hexdigest()\n",
    "    # Second, Pad the Hashes if they are NOT in hex (this is worth trying since hex is not ideal for text)\n",
    "    # Third, Vectorize the Padded or hex Hashes, using an embedding vector set from attention, semantics, \n",
    "    # or sentiment\n",
    "    phraseDictH[z] = hashedPhrase\n",
    "    \n",
    "# Last, One-Hot the Vectors\n",
    "hashSize = len(hashedPhrase)\n",
    "\n",
    "#print(sortzip[ v(0) ])\n",
    "\n",
    "array = numpy.zeros( (docSize, hashSize, vocabSize), dtype=float, order='F')\n",
    "for i in range(26): #This is the Z-axis    \n",
    "    for j in enumerate(phraseDictH):\n",
    "        array[i, j, phraseDictH[phraseDictH[z]]] = 1 #Here, the third param must be the IDF?\n",
    "\n",
    "result = encoder_input_data\n",
    "#print(result)\n"
   ]
  },
  {
   "cell_type": "code",
   "execution_count": null,
   "metadata": {},
   "outputs": [],
   "source": [
    "## BYTE-LEVEL ENCODING OF THE DICTIONARY"
   ]
  },
  {
   "cell_type": "code",
   "execution_count": null,
   "metadata": {},
   "outputs": [],
   "source": [
    "dict = sorted(countDict.items(), key=lambda x: x[1], reverse = True)\n",
    "length = len(dict)\n",
    "#print(length)\n",
    "# Use a 0-255 integer byte level encoding\n",
    "\n"
   ]
  },
  {
   "cell_type": "markdown",
   "metadata": {},
   "source": [
    "## Testing the encoding\n",
    "The TF-IDF and One-Hot encoder, should produce nearly the same output.  One-Hot produces a Gaussian Intensity for a phrase amongst the list of phrases, while the Inverse Document Frequency should do similarly."
   ]
  },
  {
   "cell_type": "code",
   "execution_count": null,
   "metadata": {},
   "outputs": [],
   "source": []
  },
  {
   "cell_type": "markdown",
   "metadata": {},
   "source": [
    "## TO BE CONTINUED...\n",
    "At this point, this notebook is finished. If you are really truly interested in using this code, please refer to Part 2 for a continuation of this process, wherein the code in this notebook is converted into objects and a multiple document corpus is compiled."
   ]
  },
  {
   "cell_type": "code",
   "execution_count": null,
   "metadata": {},
   "outputs": [],
   "source": []
  }
 ],
 "metadata": {
  "kernelspec": {
   "display_name": "Python 3",
   "language": "python",
   "name": "python3"
  },
  "language_info": {
   "codemirror_mode": {
    "name": "ipython",
    "version": 3
   },
   "file_extension": ".py",
   "mimetype": "text/x-python",
   "name": "python",
   "nbconvert_exporter": "python",
   "pygments_lexer": "ipython3",
   "version": "3.6.5"
  }
 },
 "nbformat": 4,
 "nbformat_minor": 2
}
